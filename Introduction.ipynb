{
 "cells": [
  {
   "cell_type": "markdown",
   "metadata": {
    "collapsed": true
   },
   "source": [
    "# 1 探索数据\n",
    "\n",
    "\n",
    "数据集使用 kaggle 数据集，解压后存放在images目录下\n",
    "- 训练数据集路径：\n",
    "images/train\n",
    "- 测试数据集路径：\n",
    "images/test"
   ]
  },
  {
   "cell_type": "markdown",
   "metadata": {},
   "source": [
    "# 1.1 整理数据集\n",
    " \n",
    "这里由于 trian 文件夹下的猫和狗的数据是混在一起的，需要将猫和狗的图片分别存储。\n",
    "\n",
    "图片的命名规则：类别.编码.jpg\n",
    "\n",
    "**注意：这里的处理只需要运行一次即可**\n"
   ]
  },
  {
   "cell_type": "code",
   "execution_count": 1,
   "metadata": {},
   "outputs": [
    {
     "name": "stdout",
     "output_type": "stream",
     "text": [
      "['', '/home/ubuntu/src/cntk/bindings/python', '/home/ubuntu/anaconda3/envs/dog-project/lib/python36.zip', '/home/ubuntu/anaconda3/envs/dog-project/lib/python3.6', '/home/ubuntu/anaconda3/envs/dog-project/lib/python3.6/lib-dynload', '/home/ubuntu/.local/lib/python3.6/site-packages', '/home/ubuntu/anaconda3/envs/dog-project/lib/python3.6/site-packages', '/home/ubuntu/anaconda3/envs/dog-project/lib/python3.6/site-packages/setuptools-27.2.0-py3.6.egg', '/home/ubuntu/anaconda3/envs/dog-project/lib/python3.6/site-packages/IPython/extensions', '/home/ubuntu/.ipython']\n",
      "['', '/home/ubuntu/src/cntk/bindings/python', '/home/ubuntu/anaconda3/envs/dog-project/lib/python36.zip', '/home/ubuntu/anaconda3/envs/dog-project/lib/python3.6', '/home/ubuntu/anaconda3/envs/dog-project/lib/python3.6/lib-dynload', '/home/ubuntu/.local/lib/python3.6/site-packages', '/home/ubuntu/anaconda3/envs/dog-project/lib/python3.6/site-packages', '/home/ubuntu/anaconda3/envs/dog-project/lib/python3.6/site-packages/setuptools-27.2.0-py3.6.egg', '/home/ubuntu/anaconda3/envs/dog-project/lib/python3.6/site-packages/IPython/extensions', '/home/ubuntu/.ipython']\n"
     ]
    }
   ],
   "source": [
    "import sys\n",
    "print(sys.path)\n",
    "# sys.path.append(\"/home/ubuntu/anaconda3/envs/dog-project/lib/python3.6/site-packages\")\n",
    "# sys.path.append(\"/home/ubuntu/anaconda3/pkgs/tensorflow-gpu-base-1.3.0-py36cuda8.0cudnn6.0_0/lib/python3.6/site-packages\")\n",
    "# sys.path.append(\"/home/ubuntu/anaconda3/pkgs/tensorflow-gpu-base-1.3.0-py36cuda8.0cudnn6.0_0/lib/python3.6/site-packages/tensorflow/contrib/keras/api\")\n",
    "# sys.path.append(\"/home/ubuntu/anaconda3/pkgs/tensorflow-gpu-base-1.3.0-py36cuda8.0cudnn6.0_0/lib/python3.6/site-packages\")\n",
    "print(sys.path)\n",
    "\n"
   ]
  },
  {
   "cell_type": "code",
   "execution_count": 2,
   "metadata": {},
   "outputs": [
    {
     "name": "stderr",
     "output_type": "stream",
     "text": [
      "Using TensorFlow backend.\n"
     ]
    },
    {
     "ename": "KeyError",
     "evalue": "\"Couldn't find field google.protobuf.DescriptorProto.ExtensionRange.options\"",
     "output_type": "error",
     "traceback": [
      "\u001b[0;31m---------------------------------------------------------------------------\u001b[0m",
      "\u001b[0;31mKeyError\u001b[0m                                  Traceback (most recent call last)",
      "\u001b[0;32m<ipython-input-2-4765a6ceffba>\u001b[0m in \u001b[0;36m<module>\u001b[0;34m()\u001b[0m\n\u001b[1;32m      9\u001b[0m \u001b[0;32mfrom\u001b[0m \u001b[0mPIL\u001b[0m \u001b[0;32mimport\u001b[0m \u001b[0mImage\u001b[0m\u001b[0;34m\u001b[0m\u001b[0m\n\u001b[1;32m     10\u001b[0m \u001b[0;32mimport\u001b[0m \u001b[0mplatform\u001b[0m\u001b[0;34m\u001b[0m\u001b[0m\n\u001b[0;32m---> 11\u001b[0;31m \u001b[0;32mimport\u001b[0m \u001b[0mkeras\u001b[0m\u001b[0;34m\u001b[0m\u001b[0m\n\u001b[0m\u001b[1;32m     12\u001b[0m \u001b[0;32mfrom\u001b[0m \u001b[0mkeras\u001b[0m\u001b[0;34m.\u001b[0m\u001b[0mpreprocessing\u001b[0m\u001b[0;34m.\u001b[0m\u001b[0mimage\u001b[0m \u001b[0;32mimport\u001b[0m \u001b[0mImageDataGenerator\u001b[0m\u001b[0;34m\u001b[0m\u001b[0m\n\u001b[1;32m     13\u001b[0m \u001b[0;32mfrom\u001b[0m \u001b[0mkeras\u001b[0m\u001b[0;34m.\u001b[0m\u001b[0mapplications\u001b[0m\u001b[0;34m.\u001b[0m\u001b[0minception_v3\u001b[0m \u001b[0;32mimport\u001b[0m \u001b[0mInceptionV3\u001b[0m\u001b[0;34m,\u001b[0m\u001b[0mpreprocess_input\u001b[0m\u001b[0;34m\u001b[0m\u001b[0m\n",
      "\u001b[0;32m~/anaconda3/envs/dog-project/lib/python3.6/site-packages/keras/__init__.py\u001b[0m in \u001b[0;36m<module>\u001b[0;34m()\u001b[0m\n\u001b[1;32m      1\u001b[0m \u001b[0;32mfrom\u001b[0m \u001b[0m__future__\u001b[0m \u001b[0;32mimport\u001b[0m \u001b[0mabsolute_import\u001b[0m\u001b[0;34m\u001b[0m\u001b[0m\n\u001b[1;32m      2\u001b[0m \u001b[0;34m\u001b[0m\u001b[0m\n\u001b[0;32m----> 3\u001b[0;31m \u001b[0;32mfrom\u001b[0m \u001b[0;34m.\u001b[0m \u001b[0;32mimport\u001b[0m \u001b[0mutils\u001b[0m\u001b[0;34m\u001b[0m\u001b[0m\n\u001b[0m\u001b[1;32m      4\u001b[0m \u001b[0;32mfrom\u001b[0m \u001b[0;34m.\u001b[0m \u001b[0;32mimport\u001b[0m \u001b[0mactivations\u001b[0m\u001b[0;34m\u001b[0m\u001b[0m\n\u001b[1;32m      5\u001b[0m \u001b[0;32mfrom\u001b[0m \u001b[0;34m.\u001b[0m \u001b[0;32mimport\u001b[0m \u001b[0mapplications\u001b[0m\u001b[0;34m\u001b[0m\u001b[0m\n",
      "\u001b[0;32m~/anaconda3/envs/dog-project/lib/python3.6/site-packages/keras/utils/__init__.py\u001b[0m in \u001b[0;36m<module>\u001b[0;34m()\u001b[0m\n\u001b[1;32m      4\u001b[0m \u001b[0;32mfrom\u001b[0m \u001b[0;34m.\u001b[0m \u001b[0;32mimport\u001b[0m \u001b[0mdata_utils\u001b[0m\u001b[0;34m\u001b[0m\u001b[0m\n\u001b[1;32m      5\u001b[0m \u001b[0;32mfrom\u001b[0m \u001b[0;34m.\u001b[0m \u001b[0;32mimport\u001b[0m \u001b[0mio_utils\u001b[0m\u001b[0;34m\u001b[0m\u001b[0m\n\u001b[0;32m----> 6\u001b[0;31m \u001b[0;32mfrom\u001b[0m \u001b[0;34m.\u001b[0m \u001b[0;32mimport\u001b[0m \u001b[0mconv_utils\u001b[0m\u001b[0;34m\u001b[0m\u001b[0m\n\u001b[0m\u001b[1;32m      7\u001b[0m \u001b[0;34m\u001b[0m\u001b[0m\n\u001b[1;32m      8\u001b[0m \u001b[0;31m# Globally-importable utils.\u001b[0m\u001b[0;34m\u001b[0m\u001b[0;34m\u001b[0m\u001b[0m\n",
      "\u001b[0;32m~/anaconda3/envs/dog-project/lib/python3.6/site-packages/keras/utils/conv_utils.py\u001b[0m in \u001b[0;36m<module>\u001b[0;34m()\u001b[0m\n\u001b[1;32m      7\u001b[0m \u001b[0;32mfrom\u001b[0m \u001b[0msix\u001b[0m\u001b[0;34m.\u001b[0m\u001b[0mmoves\u001b[0m \u001b[0;32mimport\u001b[0m \u001b[0mrange\u001b[0m\u001b[0;34m\u001b[0m\u001b[0m\n\u001b[1;32m      8\u001b[0m \u001b[0;32mimport\u001b[0m \u001b[0mnumpy\u001b[0m \u001b[0;32mas\u001b[0m \u001b[0mnp\u001b[0m\u001b[0;34m\u001b[0m\u001b[0m\n\u001b[0;32m----> 9\u001b[0;31m \u001b[0;32mfrom\u001b[0m \u001b[0;34m.\u001b[0m\u001b[0;34m.\u001b[0m \u001b[0;32mimport\u001b[0m \u001b[0mbackend\u001b[0m \u001b[0;32mas\u001b[0m \u001b[0mK\u001b[0m\u001b[0;34m\u001b[0m\u001b[0m\n\u001b[0m\u001b[1;32m     10\u001b[0m \u001b[0;34m\u001b[0m\u001b[0m\n\u001b[1;32m     11\u001b[0m \u001b[0;34m\u001b[0m\u001b[0m\n",
      "\u001b[0;32m~/anaconda3/envs/dog-project/lib/python3.6/site-packages/keras/backend/__init__.py\u001b[0m in \u001b[0;36m<module>\u001b[0;34m()\u001b[0m\n\u001b[1;32m     87\u001b[0m \u001b[0;32melif\u001b[0m \u001b[0m_BACKEND\u001b[0m \u001b[0;34m==\u001b[0m \u001b[0;34m'tensorflow'\u001b[0m\u001b[0;34m:\u001b[0m\u001b[0;34m\u001b[0m\u001b[0m\n\u001b[1;32m     88\u001b[0m     \u001b[0msys\u001b[0m\u001b[0;34m.\u001b[0m\u001b[0mstderr\u001b[0m\u001b[0;34m.\u001b[0m\u001b[0mwrite\u001b[0m\u001b[0;34m(\u001b[0m\u001b[0;34m'Using TensorFlow backend.\\n'\u001b[0m\u001b[0;34m)\u001b[0m\u001b[0;34m\u001b[0m\u001b[0m\n\u001b[0;32m---> 89\u001b[0;31m     \u001b[0;32mfrom\u001b[0m \u001b[0;34m.\u001b[0m\u001b[0mtensorflow_backend\u001b[0m \u001b[0;32mimport\u001b[0m \u001b[0;34m*\u001b[0m\u001b[0;34m\u001b[0m\u001b[0m\n\u001b[0m\u001b[1;32m     90\u001b[0m \u001b[0;32melse\u001b[0m\u001b[0;34m:\u001b[0m\u001b[0;34m\u001b[0m\u001b[0m\n\u001b[1;32m     91\u001b[0m     \u001b[0;31m# Try and load external backend.\u001b[0m\u001b[0;34m\u001b[0m\u001b[0;34m\u001b[0m\u001b[0m\n",
      "\u001b[0;32m~/anaconda3/envs/dog-project/lib/python3.6/site-packages/keras/backend/tensorflow_backend.py\u001b[0m in \u001b[0;36m<module>\u001b[0;34m()\u001b[0m\n\u001b[1;32m      3\u001b[0m \u001b[0;32mfrom\u001b[0m \u001b[0m__future__\u001b[0m \u001b[0;32mimport\u001b[0m \u001b[0mprint_function\u001b[0m\u001b[0;34m\u001b[0m\u001b[0m\n\u001b[1;32m      4\u001b[0m \u001b[0;34m\u001b[0m\u001b[0m\n\u001b[0;32m----> 5\u001b[0;31m \u001b[0;32mimport\u001b[0m \u001b[0mtensorflow\u001b[0m \u001b[0;32mas\u001b[0m \u001b[0mtf\u001b[0m\u001b[0;34m\u001b[0m\u001b[0m\n\u001b[0m\u001b[1;32m      6\u001b[0m \u001b[0;32mfrom\u001b[0m \u001b[0mtensorflow\u001b[0m\u001b[0;34m.\u001b[0m\u001b[0mpython\u001b[0m\u001b[0;34m.\u001b[0m\u001b[0mframework\u001b[0m \u001b[0;32mimport\u001b[0m \u001b[0mops\u001b[0m \u001b[0;32mas\u001b[0m \u001b[0mtf_ops\u001b[0m\u001b[0;34m\u001b[0m\u001b[0m\n\u001b[1;32m      7\u001b[0m \u001b[0;32mfrom\u001b[0m \u001b[0mtensorflow\u001b[0m\u001b[0;34m.\u001b[0m\u001b[0mpython\u001b[0m\u001b[0;34m.\u001b[0m\u001b[0mtraining\u001b[0m \u001b[0;32mimport\u001b[0m \u001b[0mmoving_averages\u001b[0m\u001b[0;34m\u001b[0m\u001b[0m\n",
      "\u001b[0;32m~/anaconda3/envs/dog-project/lib/python3.6/site-packages/tensorflow/__init__.py\u001b[0m in \u001b[0;36m<module>\u001b[0;34m()\u001b[0m\n\u001b[1;32m     22\u001b[0m \u001b[0;34m\u001b[0m\u001b[0m\n\u001b[1;32m     23\u001b[0m \u001b[0;31m# pylint: disable=wildcard-import\u001b[0m\u001b[0;34m\u001b[0m\u001b[0;34m\u001b[0m\u001b[0m\n\u001b[0;32m---> 24\u001b[0;31m \u001b[0;32mfrom\u001b[0m \u001b[0mtensorflow\u001b[0m\u001b[0;34m.\u001b[0m\u001b[0mpython\u001b[0m \u001b[0;32mimport\u001b[0m \u001b[0;34m*\u001b[0m\u001b[0;34m\u001b[0m\u001b[0m\n\u001b[0m\u001b[1;32m     25\u001b[0m \u001b[0;31m# pylint: enable=wildcard-import\u001b[0m\u001b[0;34m\u001b[0m\u001b[0;34m\u001b[0m\u001b[0m\n\u001b[1;32m     26\u001b[0m \u001b[0;34m\u001b[0m\u001b[0m\n",
      "\u001b[0;32m~/anaconda3/envs/dog-project/lib/python3.6/site-packages/tensorflow/python/__init__.py\u001b[0m in \u001b[0;36m<module>\u001b[0;34m()\u001b[0m\n\u001b[1;32m     50\u001b[0m \u001b[0;34m\u001b[0m\u001b[0m\n\u001b[1;32m     51\u001b[0m \u001b[0;31m# Protocol buffers\u001b[0m\u001b[0;34m\u001b[0m\u001b[0;34m\u001b[0m\u001b[0m\n\u001b[0;32m---> 52\u001b[0;31m \u001b[0;32mfrom\u001b[0m \u001b[0mtensorflow\u001b[0m\u001b[0;34m.\u001b[0m\u001b[0mcore\u001b[0m\u001b[0;34m.\u001b[0m\u001b[0mframework\u001b[0m\u001b[0;34m.\u001b[0m\u001b[0mgraph_pb2\u001b[0m \u001b[0;32mimport\u001b[0m \u001b[0;34m*\u001b[0m\u001b[0;34m\u001b[0m\u001b[0m\n\u001b[0m\u001b[1;32m     53\u001b[0m \u001b[0;32mfrom\u001b[0m \u001b[0mtensorflow\u001b[0m\u001b[0;34m.\u001b[0m\u001b[0mcore\u001b[0m\u001b[0;34m.\u001b[0m\u001b[0mframework\u001b[0m\u001b[0;34m.\u001b[0m\u001b[0mnode_def_pb2\u001b[0m \u001b[0;32mimport\u001b[0m \u001b[0;34m*\u001b[0m\u001b[0;34m\u001b[0m\u001b[0m\n\u001b[1;32m     54\u001b[0m \u001b[0;32mfrom\u001b[0m \u001b[0mtensorflow\u001b[0m\u001b[0;34m.\u001b[0m\u001b[0mcore\u001b[0m\u001b[0;34m.\u001b[0m\u001b[0mframework\u001b[0m\u001b[0;34m.\u001b[0m\u001b[0msummary_pb2\u001b[0m \u001b[0;32mimport\u001b[0m \u001b[0;34m*\u001b[0m\u001b[0;34m\u001b[0m\u001b[0m\n",
      "\u001b[0;32m~/anaconda3/envs/dog-project/lib/python3.6/site-packages/tensorflow/core/framework/graph_pb2.py\u001b[0m in \u001b[0;36m<module>\u001b[0;34m()\u001b[0m\n\u001b[1;32m      8\u001b[0m \u001b[0;32mfrom\u001b[0m \u001b[0mgoogle\u001b[0m\u001b[0;34m.\u001b[0m\u001b[0mprotobuf\u001b[0m \u001b[0;32mimport\u001b[0m \u001b[0mreflection\u001b[0m \u001b[0;32mas\u001b[0m \u001b[0m_reflection\u001b[0m\u001b[0;34m\u001b[0m\u001b[0m\n\u001b[1;32m      9\u001b[0m \u001b[0;32mfrom\u001b[0m \u001b[0mgoogle\u001b[0m\u001b[0;34m.\u001b[0m\u001b[0mprotobuf\u001b[0m \u001b[0;32mimport\u001b[0m \u001b[0msymbol_database\u001b[0m \u001b[0;32mas\u001b[0m \u001b[0m_symbol_database\u001b[0m\u001b[0;34m\u001b[0m\u001b[0m\n\u001b[0;32m---> 10\u001b[0;31m \u001b[0;32mfrom\u001b[0m \u001b[0mgoogle\u001b[0m\u001b[0;34m.\u001b[0m\u001b[0mprotobuf\u001b[0m \u001b[0;32mimport\u001b[0m \u001b[0mdescriptor_pb2\u001b[0m\u001b[0;34m\u001b[0m\u001b[0m\n\u001b[0m\u001b[1;32m     11\u001b[0m \u001b[0;31m# @@protoc_insertion_point(imports)\u001b[0m\u001b[0;34m\u001b[0m\u001b[0;34m\u001b[0m\u001b[0m\n\u001b[1;32m     12\u001b[0m \u001b[0;34m\u001b[0m\u001b[0m\n",
      "\u001b[0;32m~/anaconda3/envs/dog-project/lib/python3.6/site-packages/google/protobuf/descriptor_pb2.py\u001b[0m in \u001b[0;36m<module>\u001b[0;34m()\u001b[0m\n\u001b[1;32m    407\u001b[0m       \u001b[0mmessage_type\u001b[0m\u001b[0;34m=\u001b[0m\u001b[0;32mNone\u001b[0m\u001b[0;34m,\u001b[0m \u001b[0menum_type\u001b[0m\u001b[0;34m=\u001b[0m\u001b[0;32mNone\u001b[0m\u001b[0;34m,\u001b[0m \u001b[0mcontaining_type\u001b[0m\u001b[0;34m=\u001b[0m\u001b[0;32mNone\u001b[0m\u001b[0;34m,\u001b[0m\u001b[0;34m\u001b[0m\u001b[0m\n\u001b[1;32m    408\u001b[0m       \u001b[0mis_extension\u001b[0m\u001b[0;34m=\u001b[0m\u001b[0;32mFalse\u001b[0m\u001b[0;34m,\u001b[0m \u001b[0mextension_scope\u001b[0m\u001b[0;34m=\u001b[0m\u001b[0;32mNone\u001b[0m\u001b[0;34m,\u001b[0m\u001b[0;34m\u001b[0m\u001b[0m\n\u001b[0;32m--> 409\u001b[0;31m       options=None),\n\u001b[0m\u001b[1;32m    410\u001b[0m   ],\n\u001b[1;32m    411\u001b[0m   extensions=[\n",
      "\u001b[0;32m~/anaconda3/envs/dog-project/lib/python3.6/site-packages/google/protobuf/descriptor.py\u001b[0m in \u001b[0;36m__new__\u001b[0;34m(cls, name, full_name, index, number, type, cpp_type, label, default_value, message_type, enum_type, containing_type, is_extension, extension_scope, options, has_default_value, containing_oneof, json_name, file)\u001b[0m\n\u001b[1;32m    499\u001b[0m         \u001b[0;32mreturn\u001b[0m \u001b[0m_message\u001b[0m\u001b[0;34m.\u001b[0m\u001b[0mdefault_pool\u001b[0m\u001b[0;34m.\u001b[0m\u001b[0mFindExtensionByName\u001b[0m\u001b[0;34m(\u001b[0m\u001b[0mfull_name\u001b[0m\u001b[0;34m)\u001b[0m\u001b[0;34m\u001b[0m\u001b[0m\n\u001b[1;32m    500\u001b[0m       \u001b[0;32melse\u001b[0m\u001b[0;34m:\u001b[0m\u001b[0;34m\u001b[0m\u001b[0m\n\u001b[0;32m--> 501\u001b[0;31m         \u001b[0;32mreturn\u001b[0m \u001b[0m_message\u001b[0m\u001b[0;34m.\u001b[0m\u001b[0mdefault_pool\u001b[0m\u001b[0;34m.\u001b[0m\u001b[0mFindFieldByName\u001b[0m\u001b[0;34m(\u001b[0m\u001b[0mfull_name\u001b[0m\u001b[0;34m)\u001b[0m\u001b[0;34m\u001b[0m\u001b[0m\n\u001b[0m\u001b[1;32m    502\u001b[0m \u001b[0;34m\u001b[0m\u001b[0m\n\u001b[1;32m    503\u001b[0m   def __init__(self, name, full_name, index, number, type, cpp_type, label,\n",
      "\u001b[0;31mKeyError\u001b[0m: \"Couldn't find field google.protobuf.DescriptorProto.ExtensionRange.options\""
     ]
    }
   ],
   "source": [
    "import os\n",
    "import shutil\n",
    "import time\n",
    "import numpy as np\n",
    "import matplotlib.pyplot as plt\n",
    "from glob import glob\n",
    "from scipy.stats import mode as spmode\n",
    "from PIL import ImageFile\n",
    "from PIL import Image\n",
    "import platform\n",
    "from keras.preprocessing.image import ImageDataGenerator\n",
    "from keras.applications.inception_v3 import InceptionV3,preprocess_input\n",
    "from keras.layers import GlobalAveragePooling2D,Dense\n",
    "from keras.models import Model\n",
    "from keras.utils.vis_utils import plot_model\n",
    "from keras.optimizers import Adagrad\n",
    "from sklearn.datasets import load_files\n",
    "from keras.utils import np_utils\n",
    "from sklearn.model_selection import train_test_split\n",
    "from keras.models import *\n",
    "from keras.layers import *\n",
    "from keras.applications import *\n",
    "from keras.preprocessing.image import *\n",
    "import h5py\n",
    "from sklearn.utils import shuffle\n",
    "from keras.models import *\n",
    "from keras.layers import *\n",
    "\n",
    "np.random.seed(2017)\n",
    "\n",
    "\n",
    "print(platform.system())"
   ]
  },
  {
   "cell_type": "code",
   "execution_count": 34,
   "metadata": {
    "collapsed": true
   },
   "outputs": [],
   "source": [
    "# 下载特征向量\n",
    "# !wget -P saved_models/  https://github.com/ypwhs/dogs_vs_cats/releases/download/gap/gap_InceptionV3.h5\n",
    "# !wget -P saved_models/  https://github.com/ypwhs/dogs_vs_cats/releases/download/gap/gap_ResNet50.h5\n",
    "# !wget -P saved_models/  https://github.com/ypwhs/dogs_vs_cats/releases/download/gap/gap_Xception.h5\n"
   ]
  },
  {
   "cell_type": "code",
   "execution_count": 3,
   "metadata": {
    "collapsed": true
   },
   "outputs": [],
   "source": [
    "# windows分隔符\n",
    "splitflag = \"\\\\\"\n",
    "if (platform.system() == 'Linux'):\n",
    "    splitflag = \"/\"\n",
    "\n",
    "#处理的样本量\n",
    "train_limitcount = 12500\n",
    "test_limitcount = 12500 #不限制个数全部使用\n",
    "\n",
    "def create_dir(path):\n",
    "    '''\n",
    "    创建文件夹\n",
    "    '''\n",
    "    if (os.path.exists(path) == False):\n",
    "        os.mkdir (path)\n",
    "    else:\n",
    "        print('文件夹已经存在：%s' % path)\n",
    "        shutil.rmtree(path)\n",
    "        os.mkdir (path)\n",
    "\n",
    "# 限制训练文件数量,0不限制\n",
    "def copy_image_bytype(srcpath, destpath, limitcount = 0):\n",
    "    '''\n",
    "    将猫狗文件分别拷贝到不同文件夹下\n",
    "    '''\n",
    "    \n",
    "    filenames = [item.split(splitflag)[-1] for item in sorted(srcpath)]\n",
    "    \n",
    "    count = 0\n",
    "    for src,name in zip(srcpath,filenames):\n",
    "        dst = destpath + \"/\" + name\n",
    "        if (os.path.exists(dst) == False):\n",
    "            shutil.copyfile(src, dst)\n",
    "\n",
    "        count += 1\n",
    "        \n",
    "        # 跳出循环\n",
    "        if (limitcount == count):\n",
    "            break\n",
    "            \n",
    "    return count\n",
    "\n",
    "def file_move(srcpath, despath):\n",
    "    filenames = [item.split(splitflag)[-1] for item in sorted(srcpath)]\n",
    "    count = len(filenames)\n",
    "        \n",
    "    for src,name in zip(srcpath,filenames):\n",
    "        dst = despath + \"/\" + name\n",
    "        if (os.path.exists(src) == True):\n",
    "            shutil.move(src, dst)\n",
    "            \n",
    "    return count\n",
    "        \n",
    "    "
   ]
  },
  {
   "cell_type": "code",
   "execution_count": 4,
   "metadata": {
    "scrolled": true
   },
   "outputs": [
    {
     "name": "stdout",
     "output_type": "stream",
     "text": [
      "文件夹已经存在：images/notmatchs\n",
      "文件夹已经存在：images/all\n"
     ]
    }
   ],
   "source": [
    "# 创建文件夹\n",
    "notmatch_path='images/notmatchs'\n",
    "all_path = 'images/all'\n",
    "train_path = 'images/all/trainnew'\n",
    "dog_path = 'images/all/trainnew/dogs'\n",
    "\n",
    "\n",
    "testnew_path = 'images/all/testnew'\n",
    "test_path = 'images/all/testnew/test'\n",
    "\n",
    "\n",
    "create_dir(notmatch_path)\n",
    "create_dir(all_path)\n",
    "\n",
    "create_dir(train_path)\n",
    "create_dir(dog_path)\n",
    "\n",
    "\n",
    "create_dir(testnew_path)\n",
    "create_dir(test_path)\n",
    "\n",
    "\n",
    "cat_path = 'images/all/trainnew/cats'\n",
    "create_dir(cat_path)"
   ]
  },
  {
   "cell_type": "code",
   "execution_count": 5,
   "metadata": {},
   "outputs": [
    {
     "name": "stdout",
     "output_type": "stream",
     "text": [
      "There are 12500 total dog categories.\n"
     ]
    }
   ],
   "source": [
    "# 处理狗\n",
    "dogs_all = glob(\"images/train/dog.*\")\n",
    "\n",
    "# 整理狗数据\n",
    "count = copy_image_bytype(dogs_all, dog_path, train_limitcount)\n",
    "\n",
    "print('There are %d total dog categories.' % count)\n"
   ]
  },
  {
   "cell_type": "code",
   "execution_count": 6,
   "metadata": {},
   "outputs": [
    {
     "name": "stdout",
     "output_type": "stream",
     "text": [
      "There are 12500 total cat categories.\n"
     ]
    }
   ],
   "source": [
    "# 处理猫\n",
    "cats_all = glob(\"images/train/cat.*\")\n",
    "\n",
    "# 整理猫数据\n",
    "count = copy_image_bytype(cats_all, cat_path, train_limitcount)\n",
    "\n",
    "print('There are %d total cat categories.' % count)\n"
   ]
  },
  {
   "cell_type": "code",
   "execution_count": 7,
   "metadata": {},
   "outputs": [
    {
     "name": "stdout",
     "output_type": "stream",
     "text": [
      "There are 12500 total test categories.\n"
     ]
    }
   ],
   "source": [
    "# 处理测试数据\n",
    "test_all = glob(\"images/test/*\")\n",
    "\n",
    "# 整理猫数据\n",
    "count = copy_image_bytype(test_all, test_path, test_limitcount)\n",
    "\n",
    "print('There are %d total test categories.' % count)\n"
   ]
  },
  {
   "cell_type": "code",
   "execution_count": 8,
   "metadata": {
    "scrolled": true
   },
   "outputs": [
    {
     "name": "stdout",
     "output_type": "stream",
     "text": [
      "12500\n",
      "12500\n",
      "12500\n"
     ]
    }
   ],
   "source": [
    "#当前使用的样例\n",
    "dogs_list = glob(dog_path+'/dog.*')\n",
    "print(len(dogs_list))\n",
    "\n",
    "test_list = glob(test_path+'/*')\n",
    "print(len(test_list))\n",
    "\n",
    "cats_list = glob(cat_path+'/cat.*')\n",
    "print(len(cats_list))"
   ]
  },
  {
   "cell_type": "markdown",
   "metadata": {},
   "source": [
    "## 1.2 数据可视化"
   ]
  },
  {
   "cell_type": "code",
   "execution_count": 9,
   "metadata": {
    "collapsed": true
   },
   "outputs": [],
   "source": [
    "\n",
    "\n",
    "def get_filesizes(paths):\n",
    "    '''\n",
    "    获取文件大小\n",
    "    '''\n",
    "    filesizes = []\n",
    "    for path in paths:\n",
    "        size = os.path.getsize(path)\n",
    "        filesizes.append(size)\n",
    "    return filesizes\n",
    "\n",
    "def get_filepixs(paths):\n",
    "    '''\n",
    "    获取像素：长和宽\n",
    "    '''\n",
    "    filepixs = []\n",
    "    xpixs = []\n",
    "    ypixs = []\n",
    "    for path in paths:\n",
    "        img = Image.open(path)\n",
    "        pix = img.size #图片的长和宽\n",
    "        xpixs.append(pix[0]) #图片的宽\n",
    "        ypixs.append(pix[1]) #图片的长\n",
    "        if (pix[0] > 1000):\n",
    "            print(path)\n",
    "    filepixs.append(xpixs)\n",
    "    filepixs.append(ypixs)    \n",
    "    \n",
    "    return filepixs\n",
    "    \n",
    "def draw_hist(mylist, title, xlabel, ylabel, xmin, xmax, ymin, ymax):\n",
    "    '''\n",
    "    绘制直方图，参数依次为list,抬头,X轴标签,Y轴标签,XY轴的范围\n",
    "    '''\n",
    "    plt.hist(mylist, 100)\n",
    "    plt.xlabel(xlabel)\n",
    "    plt.ylabel(ylabel)\n",
    "    plt.title(title)\n",
    "    plt.show()\n",
    "    \n",
    "def draw_scatter(x1, y1, title, label):\n",
    "    '''\n",
    "    绘制像素的散点图\n",
    "    '''\n",
    "    plt.scatter(x1, y1, marker = 'x',color = 'red', s = 40 ,label = label)\n",
    "    plt.xlabel('wide')\n",
    "    plt.ylabel('length')\n",
    "    plt.title(title)\n",
    "    \n",
    "#     plt.xlim(-1.5, 1.5)\n",
    "#     plt.xticks(())  # ignore xticks\n",
    "#     plt.ylim(-1.5, 1.5)\n",
    "#     plt.yticks(())  # ignore yticks\n",
    "\n",
    "    plt.show()   \n",
    "\n",
    "    \n",
    "def show_filesize(paths):\n",
    "    '''\n",
    "    展示文件大小分布\n",
    "    '''\n",
    "    filesizes = get_filesizes(paths)\n",
    "\n",
    "    # train 中文件的的最小值、最大值、中位数、众数\n",
    "    train_min = np.min(filesizes)\n",
    "    print('train 中文件的的最小值:', train_min)\n",
    "    train_max = np.max(filesizes)\n",
    "    print('train 中文件的的最大值:', train_max)\n",
    "    train_median = np.median(filesizes)\n",
    "    print('train 中文件的的中位数:', train_median)\n",
    "    train_mode = spmode(filesizes)\n",
    "    print('train 中文件的的众数:', train_mode)\n",
    "        \n",
    "    title = 'file size distribute'\n",
    "    xlabel = 'file size'\n",
    "    ylabel = 'file count'\n",
    "    xmin = np.min(filesizes)\n",
    "    xmax = np.max(filesizes)\n",
    "    ymin = 0\n",
    "    ymax = 1200\n",
    "    draw_hist(filesizes, title, xlabel, ylabel, xmin, xmax, ymin, ymax)\n",
    "\n",
    "# 训练数据集文件大小的分布\n",
    "# show_filesize(dogs_list)        \n",
    "# 测试数据集文件大小的分布\n",
    "# show_filesize(cats_list)          \n",
    "    \n",
    "def show_filepix(paths):\n",
    "    '''\n",
    "    显示像素分布\n",
    "    '''\n",
    "    filepixs = get_filepixs(paths)\n",
    "    title = 'file pix distribute'\n",
    "    draw_scatter(filepixs[0], filepixs[1], title, 'dog')    "
   ]
  },
  {
   "cell_type": "code",
   "execution_count": 10,
   "metadata": {},
   "outputs": [
    {
     "name": "stdout",
     "output_type": "stream",
     "text": [
      "images/all/trainnew/dogs/dog.478.jpg\n"
     ]
    },
    {
     "data": {
      "image/png": "[encoded data removed]",
      "text/plain": [
       "<matplotlib.figure.Figure at 0x7f0816bcb2b0>"
      ]
     },
     "metadata": {},
     "output_type": "display_data"
    }
   ],
   "source": [
    "# 狗的数据集图片大小分布\n",
    "\n",
    "show_filepix(dogs_list)"
   ]
  },
  {
   "cell_type": "code",
   "execution_count": 11,
   "metadata": {},
   "outputs": [
    {
     "name": "stdout",
     "output_type": "stream",
     "text": [
      "images/all/trainnew/cats/cat.8995.jpg\n"
     ]
    },
    {
     "data": {
      "image/png": "[encoded data removed]",
      "text/plain": [
       "<matplotlib.figure.Figure at 0x7f0816549438>"
      ]
     },
     "metadata": {},
     "output_type": "display_data"
    }
   ],
   "source": [
    "# 猫的数据集图片大小分布\n",
    "show_filepix(cats_list)"
   ]
  },
  {
   "cell_type": "markdown",
   "metadata": {},
   "source": [
    "## 1.4 数据预处理"
   ]
  },
  {
   "cell_type": "markdown",
   "metadata": {},
   "source": [
    "### 1.4.1 异常数据清理\n",
    "\n",
    "异常数据有:\n",
    "\n",
    "标签与图片信息不相符的，例如：虽然标识了是狗的图片，但是图片中没有狗。\n",
    "\n",
    "照片的背景过于复杂，识别起来很困难，例如：虽然有狗但是有很多干扰元素。\n",
    "\n",
    "这里选择4种算法:ResNet50, VGG19, Xception, InceptionV3 获取的并集进行数据清理\n",
    "\n"
   ]
  },
  {
   "cell_type": "code",
   "execution_count": 44,
   "metadata": {
    "collapsed": true
   },
   "outputs": [],
   "source": [
    "from keras.preprocessing import image\n",
    "\n",
    "\n",
    "#可能概率前几个类型\n",
    "topparma = 50\n",
    "# 筛选的数量\n",
    "doglimit = train_limitcount\n",
    "catlimit = train_limitcount\n",
    "\n",
    "\n",
    "# 对 ImageNet 分类进行分析\n",
    "# 狗分类：118种，猫分类：7种\n",
    "\n",
    "ImageNetdogs = [\n",
    " 'n02085620','n02085782','n02085936','n02086079'\n",
    ",'n02086240','n02086646','n02086910','n02087046'\n",
    ",'n02087394','n02088094','n02088238','n02088364'\n",
    ",'n02088466','n02088632','n02089078','n02089867'\n",
    ",'n02089973','n02090379','n02090622','n02090721'\n",
    ",'n02091032','n02091134','n02091244','n02091467'\n",
    ",'n02091635','n02091831','n02092002','n02092339'\n",
    ",'n02093256','n02093428','n02093647','n02093754'\n",
    ",'n02093859','n02093991','n02094114','n02094258'\n",
    ",'n02094433','n02095314','n02095570','n02095889'\n",
    ",'n02096051','n02096177','n02096294','n02096437'\n",
    ",'n02096585','n02097047','n02097130','n02097209'\n",
    ",'n02097298','n02097474','n02097658','n02098105'\n",
    ",'n02098286','n02098413','n02099267','n02099429'\n",
    ",'n02099601','n02099712','n02099849','n02100236'\n",
    ",'n02100583','n02100735','n02100877','n02101006'\n",
    ",'n02101388','n02101556','n02102040','n02102177'\n",
    ",'n02102318','n02102480','n02102973','n02104029'\n",
    ",'n02104365','n02105056','n02105162','n02105251'\n",
    ",'n02105412','n02105505','n02105641','n02105855'\n",
    ",'n02106030','n02106166','n02106382','n02106550'\n",
    ",'n02106662','n02107142','n02107312','n02107574'\n",
    ",'n02107683','n02107908','n02108000','n02108089'\n",
    ",'n02108422','n02108551','n02108915','n02109047'\n",
    ",'n02109525','n02109961','n02110063','n02110185'\n",
    ",'n02110341','n02110627','n02110806','n02110958'\n",
    ",'n02111129','n02111277','n02111500','n02111889'\n",
    ",'n02112018','n02112137','n02112350','n02112706'\n",
    ",'n02113023','n02113186','n02113624','n02113712'\n",
    ",'n02113799','n02113978']\n",
    "\n",
    "ImageNetcats=[\n",
    "'n02123045','n02123159','n02123394','n02123597'\n",
    ",'n02124075','n02125311','n02127052']"
   ]
  },
  {
   "cell_type": "code",
   "execution_count": 45,
   "metadata": {
    "collapsed": true
   },
   "outputs": [],
   "source": [
    "def get_not_animalarray(model, top, animalarray,img_paths, xsize, ysize, preprocess_input, decode_predictions):\n",
    "    '''\n",
    "    清理数据集中不是对应标签的文件\n",
    "    model:模型\n",
    "    top:可能概率前几个类型\n",
    "    animalarray: ImageNet分类集\n",
    "    img_paths:数据集路径\n",
    "    x:图片宽\n",
    "    y:图片高\n",
    "    '''\n",
    "    animals = []\n",
    "    for img_path in img_paths:\n",
    "        img = image.load_img(img_path, target_size=(xsize, ysize))\n",
    "        imgarray = image.img_to_array(img)\n",
    "        imgarray = np.expand_dims(imgarray, axis=0)\n",
    "        imgarray = preprocess_input(imgarray)\n",
    "\n",
    "        preds = model.predict(imgarray)\n",
    "        predarray = decode_predictions(preds, top=top)\n",
    "#         sorted(tmparray, key=lambda tmp: tmp[2], reverse=True) \n",
    "\n",
    "        # 判断是否有指定类型存在\n",
    "        existflag = False\n",
    "        for n in range(top):\n",
    "            animal = predarray[0][n][0]\n",
    "            if animal in animalarray:\n",
    "                existflag = True\n",
    "                break\n",
    "        if existflag == False:\n",
    "            animals.append(img_path)\n",
    "            \n",
    "    return animals\n",
    "\n",
    "# [[('n02092002', 'Scottish_deerhound', 0.21568948),('n02097130', 'giant_schnauzer', 0.074100845)]]"
   ]
  },
  {
   "cell_type": "markdown",
   "metadata": {},
   "source": [
    "#### 利用ResNet50网络进行ImageNet分类"
   ]
  },
  {
   "cell_type": "code",
   "execution_count": 50,
   "metadata": {},
   "outputs": [
    {
     "ename": "TypeError",
     "evalue": "softmax() got an unexpected keyword argument 'axis'",
     "output_type": "error",
     "traceback": [
      "\u001b[0;31m---------------------------------------------------------------------------\u001b[0m",
      "\u001b[0;31mTypeError\u001b[0m                                 Traceback (most recent call last)",
      "\u001b[0;32m<ipython-input-50-e6357b31f5ed>\u001b[0m in \u001b[0;36m<module>\u001b[0;34m()\u001b[0m\n\u001b[1;32m      2\u001b[0m \u001b[0;32mfrom\u001b[0m \u001b[0mkeras\u001b[0m\u001b[0;34m.\u001b[0m\u001b[0mapplications\u001b[0m\u001b[0;34m.\u001b[0m\u001b[0mresnet50\u001b[0m \u001b[0;32mimport\u001b[0m \u001b[0mpreprocess_input\u001b[0m\u001b[0;34m,\u001b[0m \u001b[0mdecode_predictions\u001b[0m\u001b[0;34m\u001b[0m\u001b[0m\n\u001b[1;32m      3\u001b[0m \u001b[0;34m\u001b[0m\u001b[0m\n\u001b[0;32m----> 4\u001b[0;31m \u001b[0mResNet50_model\u001b[0m \u001b[0;34m=\u001b[0m \u001b[0mResNet50\u001b[0m\u001b[0;34m(\u001b[0m\u001b[0mweights\u001b[0m\u001b[0;34m=\u001b[0m\u001b[0;34m'imagenet'\u001b[0m\u001b[0;34m)\u001b[0m\u001b[0;34m\u001b[0m\u001b[0m\n\u001b[0m\u001b[1;32m      5\u001b[0m \u001b[0;34m\u001b[0m\u001b[0m\n\u001b[1;32m      6\u001b[0m \u001b[0mprint\u001b[0m\u001b[0;34m(\u001b[0m\u001b[0mdoglimit\u001b[0m\u001b[0;34m)\u001b[0m\u001b[0;34m\u001b[0m\u001b[0m\n",
      "\u001b[0;32m~/anaconda3/envs/dog-project/lib/python3.6/site-packages/keras_applications/resnet50.py\u001b[0m in \u001b[0;36mResNet50\u001b[0;34m(include_top, weights, input_tensor, input_shape, pooling, classes)\u001b[0m\n\u001b[1;32m    254\u001b[0m         \u001b[0mx\u001b[0m \u001b[0;34m=\u001b[0m \u001b[0mlayers\u001b[0m\u001b[0;34m.\u001b[0m\u001b[0mAveragePooling2D\u001b[0m\u001b[0;34m(\u001b[0m\u001b[0;34m(\u001b[0m\u001b[0;36m7\u001b[0m\u001b[0;34m,\u001b[0m \u001b[0;36m7\u001b[0m\u001b[0;34m)\u001b[0m\u001b[0;34m,\u001b[0m \u001b[0mname\u001b[0m\u001b[0;34m=\u001b[0m\u001b[0;34m'avg_pool'\u001b[0m\u001b[0;34m)\u001b[0m\u001b[0;34m(\u001b[0m\u001b[0mx\u001b[0m\u001b[0;34m)\u001b[0m\u001b[0;34m\u001b[0m\u001b[0m\n\u001b[1;32m    255\u001b[0m         \u001b[0mx\u001b[0m \u001b[0;34m=\u001b[0m \u001b[0mlayers\u001b[0m\u001b[0;34m.\u001b[0m\u001b[0mFlatten\u001b[0m\u001b[0;34m(\u001b[0m\u001b[0;34m)\u001b[0m\u001b[0;34m(\u001b[0m\u001b[0mx\u001b[0m\u001b[0;34m)\u001b[0m\u001b[0;34m\u001b[0m\u001b[0m\n\u001b[0;32m--> 256\u001b[0;31m         \u001b[0mx\u001b[0m \u001b[0;34m=\u001b[0m \u001b[0mlayers\u001b[0m\u001b[0;34m.\u001b[0m\u001b[0mDense\u001b[0m\u001b[0;34m(\u001b[0m\u001b[0mclasses\u001b[0m\u001b[0;34m,\u001b[0m \u001b[0mactivation\u001b[0m\u001b[0;34m=\u001b[0m\u001b[0;34m'softmax'\u001b[0m\u001b[0;34m,\u001b[0m \u001b[0mname\u001b[0m\u001b[0;34m=\u001b[0m\u001b[0;34m'fc1000'\u001b[0m\u001b[0;34m)\u001b[0m\u001b[0;34m(\u001b[0m\u001b[0mx\u001b[0m\u001b[0;34m)\u001b[0m\u001b[0;34m\u001b[0m\u001b[0m\n\u001b[0m\u001b[1;32m    257\u001b[0m     \u001b[0;32melse\u001b[0m\u001b[0;34m:\u001b[0m\u001b[0;34m\u001b[0m\u001b[0m\n\u001b[1;32m    258\u001b[0m         \u001b[0;32mif\u001b[0m \u001b[0mpooling\u001b[0m \u001b[0;34m==\u001b[0m \u001b[0;34m'avg'\u001b[0m\u001b[0;34m:\u001b[0m\u001b[0;34m\u001b[0m\u001b[0m\n",
      "\u001b[0;32m~/anaconda3/envs/dog-project/lib/python3.6/site-packages/keras/engine/base_layer.py\u001b[0m in \u001b[0;36m__call__\u001b[0;34m(self, inputs, **kwargs)\u001b[0m\n\u001b[1;32m    455\u001b[0m             \u001b[0;31m# Actually call the layer,\u001b[0m\u001b[0;34m\u001b[0m\u001b[0;34m\u001b[0m\u001b[0m\n\u001b[1;32m    456\u001b[0m             \u001b[0;31m# collecting output(s), mask(s), and shape(s).\u001b[0m\u001b[0;34m\u001b[0m\u001b[0;34m\u001b[0m\u001b[0m\n\u001b[0;32m--> 457\u001b[0;31m             \u001b[0moutput\u001b[0m \u001b[0;34m=\u001b[0m \u001b[0mself\u001b[0m\u001b[0;34m.\u001b[0m\u001b[0mcall\u001b[0m\u001b[0;34m(\u001b[0m\u001b[0minputs\u001b[0m\u001b[0;34m,\u001b[0m \u001b[0;34m**\u001b[0m\u001b[0mkwargs\u001b[0m\u001b[0;34m)\u001b[0m\u001b[0;34m\u001b[0m\u001b[0m\n\u001b[0m\u001b[1;32m    458\u001b[0m             \u001b[0moutput_mask\u001b[0m \u001b[0;34m=\u001b[0m \u001b[0mself\u001b[0m\u001b[0;34m.\u001b[0m\u001b[0mcompute_mask\u001b[0m\u001b[0;34m(\u001b[0m\u001b[0minputs\u001b[0m\u001b[0;34m,\u001b[0m \u001b[0mprevious_mask\u001b[0m\u001b[0;34m)\u001b[0m\u001b[0;34m\u001b[0m\u001b[0m\n\u001b[1;32m    459\u001b[0m \u001b[0;34m\u001b[0m\u001b[0m\n",
      "\u001b[0;32m~/anaconda3/envs/dog-project/lib/python3.6/site-packages/keras/layers/core.py\u001b[0m in \u001b[0;36mcall\u001b[0;34m(self, inputs)\u001b[0m\n\u001b[1;32m    876\u001b[0m             \u001b[0moutput\u001b[0m \u001b[0;34m=\u001b[0m \u001b[0mK\u001b[0m\u001b[0;34m.\u001b[0m\u001b[0mbias_add\u001b[0m\u001b[0;34m(\u001b[0m\u001b[0moutput\u001b[0m\u001b[0;34m,\u001b[0m \u001b[0mself\u001b[0m\u001b[0;34m.\u001b[0m\u001b[0mbias\u001b[0m\u001b[0;34m,\u001b[0m \u001b[0mdata_format\u001b[0m\u001b[0;34m=\u001b[0m\u001b[0;34m'channels_last'\u001b[0m\u001b[0;34m)\u001b[0m\u001b[0;34m\u001b[0m\u001b[0m\n\u001b[1;32m    877\u001b[0m         \u001b[0;32mif\u001b[0m \u001b[0mself\u001b[0m\u001b[0;34m.\u001b[0m\u001b[0mactivation\u001b[0m \u001b[0;32mis\u001b[0m \u001b[0;32mnot\u001b[0m \u001b[0;32mNone\u001b[0m\u001b[0;34m:\u001b[0m\u001b[0;34m\u001b[0m\u001b[0m\n\u001b[0;32m--> 878\u001b[0;31m             \u001b[0moutput\u001b[0m \u001b[0;34m=\u001b[0m \u001b[0mself\u001b[0m\u001b[0;34m.\u001b[0m\u001b[0mactivation\u001b[0m\u001b[0;34m(\u001b[0m\u001b[0moutput\u001b[0m\u001b[0;34m)\u001b[0m\u001b[0;34m\u001b[0m\u001b[0m\n\u001b[0m\u001b[1;32m    879\u001b[0m         \u001b[0;32mreturn\u001b[0m \u001b[0moutput\u001b[0m\u001b[0;34m\u001b[0m\u001b[0m\n\u001b[1;32m    880\u001b[0m \u001b[0;34m\u001b[0m\u001b[0m\n",
      "\u001b[0;32m~/anaconda3/envs/dog-project/lib/python3.6/site-packages/keras/activations.py\u001b[0m in \u001b[0;36msoftmax\u001b[0;34m(x, axis)\u001b[0m\n\u001b[1;32m     27\u001b[0m     \u001b[0mndim\u001b[0m \u001b[0;34m=\u001b[0m \u001b[0mK\u001b[0m\u001b[0;34m.\u001b[0m\u001b[0mndim\u001b[0m\u001b[0;34m(\u001b[0m\u001b[0mx\u001b[0m\u001b[0;34m)\u001b[0m\u001b[0;34m\u001b[0m\u001b[0m\n\u001b[1;32m     28\u001b[0m     \u001b[0;32mif\u001b[0m \u001b[0mndim\u001b[0m \u001b[0;34m==\u001b[0m \u001b[0;36m2\u001b[0m\u001b[0;34m:\u001b[0m\u001b[0;34m\u001b[0m\u001b[0m\n\u001b[0;32m---> 29\u001b[0;31m         \u001b[0;32mreturn\u001b[0m \u001b[0mK\u001b[0m\u001b[0;34m.\u001b[0m\u001b[0msoftmax\u001b[0m\u001b[0;34m(\u001b[0m\u001b[0mx\u001b[0m\u001b[0;34m)\u001b[0m\u001b[0;34m\u001b[0m\u001b[0m\n\u001b[0m\u001b[1;32m     30\u001b[0m     \u001b[0;32melif\u001b[0m \u001b[0mndim\u001b[0m \u001b[0;34m>\u001b[0m \u001b[0;36m2\u001b[0m\u001b[0;34m:\u001b[0m\u001b[0;34m\u001b[0m\u001b[0m\n\u001b[1;32m     31\u001b[0m         \u001b[0me\u001b[0m \u001b[0;34m=\u001b[0m \u001b[0mK\u001b[0m\u001b[0;34m.\u001b[0m\u001b[0mexp\u001b[0m\u001b[0;34m(\u001b[0m\u001b[0mx\u001b[0m \u001b[0;34m-\u001b[0m \u001b[0mK\u001b[0m\u001b[0;34m.\u001b[0m\u001b[0mmax\u001b[0m\u001b[0;34m(\u001b[0m\u001b[0mx\u001b[0m\u001b[0;34m,\u001b[0m \u001b[0maxis\u001b[0m\u001b[0;34m=\u001b[0m\u001b[0maxis\u001b[0m\u001b[0;34m,\u001b[0m \u001b[0mkeepdims\u001b[0m\u001b[0;34m=\u001b[0m\u001b[0;32mTrue\u001b[0m\u001b[0;34m)\u001b[0m\u001b[0;34m)\u001b[0m\u001b[0;34m\u001b[0m\u001b[0m\n",
      "\u001b[0;32m~/anaconda3/envs/dog-project/lib/python3.6/site-packages/keras/backend/tensorflow_backend.py\u001b[0m in \u001b[0;36msoftmax\u001b[0;34m(x, axis)\u001b[0m\n\u001b[1;32m   3152\u001b[0m         \u001b[0mA\u001b[0m \u001b[0mtensor\u001b[0m\u001b[0;34m.\u001b[0m\u001b[0;34m\u001b[0m\u001b[0m\n\u001b[1;32m   3153\u001b[0m     \"\"\"\n\u001b[0;32m-> 3154\u001b[0;31m     \u001b[0;32mreturn\u001b[0m \u001b[0mtf\u001b[0m\u001b[0;34m.\u001b[0m\u001b[0mnn\u001b[0m\u001b[0;34m.\u001b[0m\u001b[0msoftmax\u001b[0m\u001b[0;34m(\u001b[0m\u001b[0mx\u001b[0m\u001b[0;34m,\u001b[0m \u001b[0maxis\u001b[0m\u001b[0;34m=\u001b[0m\u001b[0maxis\u001b[0m\u001b[0;34m)\u001b[0m\u001b[0;34m\u001b[0m\u001b[0m\n\u001b[0m\u001b[1;32m   3155\u001b[0m \u001b[0;34m\u001b[0m\u001b[0m\n\u001b[1;32m   3156\u001b[0m \u001b[0;34m\u001b[0m\u001b[0m\n",
      "\u001b[0;31mTypeError\u001b[0m: softmax() got an unexpected keyword argument 'axis'"
     ]
    }
   ],
   "source": [
    "from keras.applications.resnet50 import ResNet50\n",
    "from keras.applications.resnet50 import preprocess_input, decode_predictions\n",
    "\n",
    "ResNet50_model = ResNet50(weights='imagenet')\n",
    "\n",
    "print(doglimit)\n",
    "print(catlimit)\n",
    "\n",
    "# 不是狗的\n",
    "ResNet50_notdogs = get_not_animalarray(ResNet50_model, topparma, ImageNetdogs, dogs_list[0:doglimit], 224, 224, preprocess_input, decode_predictions)\n",
    "print(ResNet50_notdogs)\n",
    "\n",
    "# 不是猫的\n",
    "ResNet50_notcats = get_not_animalarray(ResNet50_model, topparma, ImageNetcats, cats_list[0:catlimit], 224, 224, preprocess_input, decode_predictions)\n",
    "print(ResNet50_notdogs)   "
   ]
  },
  {
   "cell_type": "markdown",
   "metadata": {},
   "source": [
    "#### 利用VGG19网络进行ImageNet分类"
   ]
  },
  {
   "cell_type": "code",
   "execution_count": null,
   "metadata": {
    "collapsed": true
   },
   "outputs": [],
   "source": [
    "from keras.applications.vgg19 import VGG19\n",
    "from keras.applications.vgg19 import preprocess_input,decode_predictions\n",
    "\n",
    "VGG19_model = VGG19(weights='imagenet')\n",
    "\n",
    "# 不是狗的\n",
    "VGG19_notdogs = get_not_animalarray(VGG19_model, topparma, ImageNetdogs, dogs_list[0:doglimit], 224, 224, preprocess_input, decode_predictions)\n",
    "print(VGG19_notdogs)\n",
    "\n",
    "# 不是猫的\n",
    "VGG19_notcats = get_not_animalarray(VGG19_model, topparma, ImageNetcats, cats_list[0:catlimit], 224, 224, preprocess_input, decode_predictions)\n",
    "print(VGG19_notcats)   "
   ]
  },
  {
   "cell_type": "markdown",
   "metadata": {},
   "source": [
    "#### 利用Xception网络进行ImageNet分类"
   ]
  },
  {
   "cell_type": "code",
   "execution_count": null,
   "metadata": {
    "collapsed": true
   },
   "outputs": [],
   "source": [
    "from keras.applications.xception import Xception\n",
    "from keras.applications.xception import preprocess_input,decode_predictions\n",
    "\n",
    "Xception_model = Xception(weights='imagenet')\n",
    "\n",
    "# 不是狗的\n",
    "Xception_notdogs = get_not_animalarray(Xception_model, topparma, ImageNetdogs, dogs_list[0:doglimit], 299, 299, preprocess_input, decode_predictions)\n",
    "print(Xception_notdogs)\n",
    "\n",
    "# 不是猫的\n",
    "Xception_notcats = get_not_animalarray(Xception_model, topparma, ImageNetcats, cats_list[0:catlimit], 299, 299, preprocess_input, decode_predictions)\n",
    "print(Xception_notcats) "
   ]
  },
  {
   "cell_type": "markdown",
   "metadata": {},
   "source": [
    "#### 利用InceptionV3网络进行ImageNet分类"
   ]
  },
  {
   "cell_type": "code",
   "execution_count": null,
   "metadata": {
    "collapsed": true
   },
   "outputs": [],
   "source": [
    "from keras.applications.inception_v3 import InceptionV3\n",
    "from keras.applications.inception_v3 import preprocess_input,decode_predictions\n",
    "\n",
    "InceptionV3_model = InceptionV3(weights='imagenet')\n",
    "\n",
    "# 不是狗的\n",
    "InceptionV3_notdogs = get_not_animalarray(InceptionV3_model, topparma, ImageNetdogs, dogs_list[0:doglimit], 299, 299, preprocess_input, decode_predictions)\n",
    "print(InceptionV3_notdogs)\n",
    "\n",
    "# 不是猫的\n",
    "InceptionV3_notcats = get_not_animalarray(InceptionV3_model, topparma, ImageNetcats, cats_list[0:catlimit], 299, 299, preprocess_input, decode_predictions)\n",
    "print(InceptionV3_notcats) "
   ]
  },
  {
   "cell_type": "markdown",
   "metadata": {},
   "source": [
    "#### 合并结果集"
   ]
  },
  {
   "cell_type": "code",
   "execution_count": null,
   "metadata": {
    "collapsed": true
   },
   "outputs": [],
   "source": [
    "# 合并所有的结果，取并集\n",
    "notdogs = ResNet50_notdogs + VGG19_notdogs + Xception_notdogs + InceptionV3_notdogs\n",
    "notdogs = list(set(notdogs))\n",
    "print(notdogs)\n",
    "\n",
    "notcats = ResNet50_notcats + VGG19_notcats + Xception_notcats + InceptionV3_notdogs\n",
    "notcats = list(set(notcats))\n",
    "print(notcats)\n",
    "\n",
    "\n",
    "notmatchs = notdogs + notcats\n",
    "# notmatchs = notdogs"
   ]
  },
  {
   "cell_type": "code",
   "execution_count": null,
   "metadata": {
    "collapsed": true
   },
   "outputs": [],
   "source": [
    "f = open('notmatchs.txt','w')\n",
    " \n",
    "f.write(notmatchs)\n",
    "\n",
    "f.close()\n"
   ]
  },
  {
   "cell_type": "markdown",
   "metadata": {},
   "source": [
    "#### 剔除异常数据"
   ]
  },
  {
   "cell_type": "code",
   "execution_count": null,
   "metadata": {
    "collapsed": true
   },
   "outputs": [],
   "source": [
    "import cv2\n",
    "import  matplotlib.pyplot as plt\n",
    "\n",
    "def show_multiple_image(images):\n",
    "    '''\n",
    "    展示多组图片\n",
    "    '''\n",
    "    count = 1\n",
    "    row = len(images) / 4\n",
    "    col = 4\n",
    "    if (row < 1):\n",
    "        row = 1\n",
    "    for image in images:\n",
    "        plt.figure(num='astronaut', figsize =(12,15))  #创建一个名为astronaut的窗口,并设置大小 \n",
    "        img = plt.imread(image)  \n",
    "        if (count == 1):\n",
    "            plt.subplot(row,col,count)     #将窗口分为两行两列四个子图，则可显示四幅图片\n",
    "            plt.title(image.split(splitflag)[-1])   #第一幅图片标题l\n",
    "            plt.imshow(img)      #绘制第一幅图片\n",
    "        else:\n",
    "            plt.subplot(row,col,count)     #第三个子图\n",
    "            plt.title(image.split(splitflag)[-1])   #第一幅图片标题l\n",
    "            plt.imshow(img)      #绘制第一幅图片\n",
    "\n",
    "        if (count >= 8):\n",
    "            count += 1\n",
    "        else:\n",
    "            count += 1\n",
    "\n",
    "    plt.show()   #显示窗口\n",
    "\n",
    "\n",
    "# test1=['images/all/testnew/test\\\\1.jpg', 'images/all/testnew/test\\\\10.jpg', 'images/all/testnew/test\\\\100.jpg', 'images/all/testnew/test\\\\1000.jpg']    \n",
    "# test2=['images/all/testnew/test\\\\1.jpg', 'images/all/testnew/test\\\\10.jpg', 'images/all/testnew/test\\\\100.jpg', 'images/all/testnew/test\\\\1000.jpg']    \n",
    "# test3=['images/all/testnew/test\\\\1.jpg', 'images/all/testnew/test\\\\10.jpg', 'images/all/testnew/test\\\\100.jpg', 'images/all/testnew/test\\\\1000.jpg']    \n",
    "# test4=['images/all/testnew/test\\\\101.jpg', 'images/all/testnew/test\\\\102.jpg', 'images/all/testnew/test\\\\100.jpg', 'images/all/testnew/test\\\\1000.jpg']    \n",
    "# test5=[]\n",
    "# test = test1+ test2 + test3 + test4\n",
    "# print(len(notmatchs))\n",
    "# show_multiple_image(notmatchs)    "
   ]
  },
  {
   "cell_type": "code",
   "execution_count": null,
   "metadata": {
    "collapsed": true
   },
   "outputs": [],
   "source": [
    "# 剔除异常数据\n",
    "file_move(notmatchs, notmatch_path)"
   ]
  },
  {
   "cell_type": "markdown",
   "metadata": {},
   "source": [
    "### 1.4.2 导出特征向量"
   ]
  },
  {
   "cell_type": "code",
   "execution_count": null,
   "metadata": {
    "collapsed": true
   },
   "outputs": [],
   "source": [
    "# 导出特征向量\n",
    "def write_gap(MODEL, image_size, lambda_func=None):\n",
    "    width = image_size[0]\n",
    "    height = image_size[1]\n",
    "    input_tensor = Input((height, width, 3))\n",
    "    x = input_tensor\n",
    "    if lambda_func:\n",
    "        x = Lambda(lambda_func)(x)\n",
    "    \n",
    "    base_model = MODEL(input_tensor=x, weights='imagenet', include_top=False)\n",
    "    model = Model(base_model.input, GlobalAveragePooling2D()(base_model.output))\n",
    "\n",
    "    gen = ImageDataGenerator()\n",
    "    train_generator = gen.flow_from_directory(train_path, image_size, shuffle=False, \n",
    "                                              batch_size=16)\n",
    "    test_generator = gen.flow_from_directory(testnew_path, image_size, shuffle=False, \n",
    "                                             batch_size=16, class_mode=None)\n",
    "\n",
    "    nb_sample = len(train_generator.filenames)\n",
    "    train = model.predict_generator(train_generator, len(train_generator.filenames), verbose=1)\n",
    "    nb_sample = len(test_generator.filenames)\n",
    "    test = model.predict_generator(test_generator, len(test_generator.filenames), verbose=1)\n",
    "    with h5py.File(\"gap_%s.h5\"%MODEL.func_name) as h:\n",
    "        h.create_dataset(\"train\", data=train)\n",
    "        h.create_dataset(\"test\", data=test)\n",
    "        h.create_dataset(\"label\", data=train_generator.classes)\n",
    "\n",
    "# write_gap(ResNet50, (224, 224))\n",
    "# write_gap(InceptionV3, (299, 299), inception_v3.preprocess_input)\n",
    "# write_gap(Xception, (299, 299), xception.preprocess_input)\n",
    "\n",
    "\n"
   ]
  },
  {
   "cell_type": "markdown",
   "metadata": {},
   "source": [
    "### 1.4.3 载入特征向量"
   ]
  },
  {
   "cell_type": "code",
   "execution_count": null,
   "metadata": {
    "collapsed": true
   },
   "outputs": [],
   "source": [
    "#载入特征向量\n",
    "train_tensors = []\n",
    "test_tensors = []\n",
    "\n",
    "for filename in [\"saved_models/gap_ResNet50.h5\", \"saved_models/gap_Xception.h5\", \"saved_models/gap_InceptionV3.h5\"]:\n",
    "    with h5py.File(filename, 'r') as h:\n",
    "        train_tensors.append(np.array(h['train']))\n",
    "        test_tensors.append(np.array(h['test']))\n",
    "        train_targets = np.array(h['label'])\n",
    "\n",
    "train_tensors = np.concatenate(train_tensors, axis=1)\n",
    "test_tensors = np.concatenate(test_tensors, axis=1)\n",
    "\n",
    "train_tensors, train_targets = shuffle(train_tensors, train_targets)\n",
    "\n"
   ]
  },
  {
   "cell_type": "markdown",
   "metadata": {
    "collapsed": true
   },
   "source": [
    "# 2 构建模型\n",
    "\n"
   ]
  },
  {
   "cell_type": "markdown",
   "metadata": {},
   "source": [
    "## 2.1 训练模型\n",
    "\n",
    "训练 InceptionV3 模型\n",
    "\n",
    "训练 Xception 模型"
   ]
  },
  {
   "cell_type": "code",
   "execution_count": null,
   "metadata": {
    "collapsed": true
   },
   "outputs": [],
   "source": [
    "from keras.preprocessing import image\n",
    "from keras.models import Model\n",
    "from keras.layers import Dense, GlobalAveragePooling2D\n",
    "from keras import backend as K\n",
    "from keras.callbacks import ModelCheckpoint\n",
    "from keras.callbacks import TensorBoard\n",
    "from keras.layers import Dense, Dropout, Flatten, Input\n",
    "\n",
    "\n",
    "#epochs = 300\n",
    "epochs = 40\n",
    "batch_size = 64\n",
    "patience=10\n",
    "\n",
    "# logloss 趋势图\n",
    "def show_logloss(history_callback):\n",
    "    plt.plot(history_callback.history['loss'])\n",
    "    plt.plot(history_callback.history['val_loss'])\n",
    "    plt.title(\"model loss\")\n",
    "    plt.ylabel(\"loss\")\n",
    "    plt.xlabel(\"epoch\")\n",
    "    plt.legend([\"train\",\"test\"],loc=\"upper left\")\n",
    "\n",
    "    plt.show()\n",
    "\n",
    "# 准确率趋势图\n",
    "def show_acc(history_callback):\n",
    "    plt.plot(history_callback.history['acc'])\n",
    "    plt.plot(history_callback.history['val_acc'])\n",
    "    plt.title(\"model acc\")\n",
    "    plt.ylabel(\"acc\")\n",
    "    plt.xlabel(\"epoch\")\n",
    "    plt.legend([\"train\",\"test\"],loc=\"upper left\")\n",
    "\n",
    "    plt.show()"
   ]
  },
  {
   "cell_type": "code",
   "execution_count": null,
   "metadata": {
    "collapsed": true
   },
   "outputs": [],
   "source": [
    "# 1.构建不带分类器的预训练模型\n",
    "base_model = InceptionV3(weights='imagenet',include_top=False) \n",
    "# base_model = Xception(weights='imagenet',include_top=False) "
   ]
  },
  {
   "cell_type": "code",
   "execution_count": null,
   "metadata": {
    "collapsed": true
   },
   "outputs": [],
   "source": [
    "# 2.添加全局平均池化层\n",
    "x = base_model.output\n",
    "x = GlobalAveragePooling2D()(x)\n"
   ]
  },
  {
   "cell_type": "code",
   "execution_count": null,
   "metadata": {
    "collapsed": true
   },
   "outputs": [],
   "source": [
    "# 3.全连接层，可选，如果精度够用则可以不加\n",
    "x = Dense(1024, activation='relu')(x)\n",
    "x = Dropout(0.5)(x)"
   ]
  },
  {
   "cell_type": "code",
   "execution_count": null,
   "metadata": {
    "collapsed": true
   },
   "outputs": [],
   "source": [
    "# 4. 添加一个分类器，使用 1 个神经元，sigmoid激活函数\n",
    "from keras.models import *\n",
    "from keras.layers import *\n",
    "\n",
    "np.random.seed(2017)\n",
    "\n",
    "input_tensor = Input(train_tensors.shape[1:])\n",
    "x = Dropout(0.5)(input_tensor)\n",
    "predictions = Dense(1, activation='sigmoid')(x)\n"
   ]
  },
  {
   "cell_type": "code",
   "execution_count": null,
   "metadata": {
    "collapsed": true
   },
   "outputs": [],
   "source": [
    "# 5. 构建我们需要训练的完整模型\n",
    "# model = Model(inputs=base_model.input, outputs=predictions)\n",
    "model = Model(inputs=input_tensor, outputs=predictions)\n",
    "\n"
   ]
  },
  {
   "cell_type": "code",
   "execution_count": null,
   "metadata": {
    "collapsed": true
   },
   "outputs": [],
   "source": [
    "#GPU 支持\n",
    "# from keras.utils import multi_gpu_model\n",
    "\n",
    "# '''\n",
    "# Replicates `model` on 8 GPUs.\n",
    "# This assumes that your machine has 8 available GPUs.\n",
    "# '''\n",
    "\n",
    "# model = multi_gpu_model(model, gpus=8)"
   ]
  },
  {
   "cell_type": "code",
   "execution_count": null,
   "metadata": {
    "collapsed": true
   },
   "outputs": [],
   "source": [
    "# 6.首先只训练顶部的几层（随机初始化的层），锁住所有 InceptionV3d 卷积层\n",
    "for layer in base_model.layers:\n",
    "    layer.trainable = False\n",
    "\n",
    "    \n",
    "# for i, layer in enumerate(base_model.layers):\n",
    "#     print(i, layer.name, layer.trainable)"
   ]
  },
  {
   "cell_type": "code",
   "execution_count": null,
   "metadata": {
    "collapsed": true
   },
   "outputs": [],
   "source": [
    "starttime = time.strftime('start time:%Y-%m-%d %H:%M:%S', time.localtime()) \n",
    "print (starttime)\n",
    "\n",
    "# 7.编译模型（一定要在锁层以后操作）\n",
    "# model.compile(optimizer='rmsprop', loss='categorical_crossentropy',metrics=['accuracy'])\n",
    "model.compile(optimizer='adadelta', loss='binary_crossentropy', metrics=['accuracy'])\n",
    "\n",
    "\n",
    "endtime = time.strftime('end time:%Y-%m-%d %H:%M:%S', time.localtime()) \n",
    "print (endtime)"
   ]
  },
  {
   "cell_type": "code",
   "execution_count": null,
   "metadata": {
    "collapsed": true
   },
   "outputs": [],
   "source": [
    "starttime = time.strftime('start time:%Y-%m-%d %H:%M:%S', time.localtime()) \n",
    "print (starttime)\n",
    "\n",
    "# 8. 在新的数据集上训练几代\n",
    "# early stoppping \n",
    "from keras.callbacks import EarlyStopping\n",
    "\n",
    "# monitor: 需要监视的变量\n",
    "# patience:在发现变量没有变化后的多少个epoch停止\n",
    "# verbose:信息展示模式\n",
    "early_stopping = EarlyStopping(monitor='val_loss', patience=patience, verbose=1)\n",
    "\n",
    "tensorboard = TensorBoard(log_dir='log')\n",
    "callback_lists = [tensorboard, early_stopping]\n",
    "# history_callback = model.fit(train_tensors, train_targets, validation_data=(valid_tensors, valid_targets),\n",
    "#          epochs=epochs, batch_size=batch_size, verbose=1, callbacks=callback_lists)\n",
    "\n",
    "history_callback_1 = model.fit(train_tensors, train_targets, batch_size=batch_size, \n",
    "                               epochs=epochs, validation_split=0.2, verbose=1, callbacks=callback_lists)\n",
    "\n",
    "endtime = time.strftime('end time:%Y-%m-%d %H:%M:%S', time.localtime()) \n",
    "print (endtime)"
   ]
  },
  {
   "cell_type": "code",
   "execution_count": null,
   "metadata": {
    "collapsed": true
   },
   "outputs": [],
   "source": [
    "# 展示logloss趋势\n",
    "show_logloss(history_callback_1)"
   ]
  },
  {
   "cell_type": "code",
   "execution_count": null,
   "metadata": {
    "collapsed": true
   },
   "outputs": [],
   "source": [
    "# 9.现在顶层应该训练好了，开始微调 InceptionV3的卷积层。\n",
    "#锁住底下的几层，然后训练其余的顶层。查看每一层的名字和层号，看看应该锁多少层\n",
    "# for i, layer in enumerate(base_model.layers):\n",
    "#     print(i, layer.name,layer.trainable)\n",
    " "
   ]
  },
  {
   "cell_type": "code",
   "execution_count": null,
   "metadata": {
    "collapsed": true
   },
   "outputs": [],
   "source": [
    "# 10.我们选择训练最上面的两个 Inception block, 锁住前面249层，然后放开之后的层\n",
    "for layer in model.layers[:292]:\n",
    "    layer.trainable = False\n",
    "for layer in model.layers[292:]:\n",
    "    layer.trainable = True\n"
   ]
  },
  {
   "cell_type": "code",
   "execution_count": null,
   "metadata": {
    "collapsed": true
   },
   "outputs": [],
   "source": [
    "from keras.optimizers import SGD\n",
    "\n",
    "# 11.重新编译模型，使上面的修改生效，设置一个很低的学习率:lr=0.001，使用SGD来微调\n",
    "model.compile(optimizer=SGD(lr=0.0001, momentum=0.9), loss='binary_crossentropy', metrics=['accuracy'])\n",
    "print('compile ok')"
   ]
  },
  {
   "cell_type": "code",
   "execution_count": null,
   "metadata": {
    "collapsed": true
   },
   "outputs": [],
   "source": [
    "\n",
    "\n",
    "starttime = time.strftime('start time:%Y-%m-%d %H:%M:%S', time.localtime()) \n",
    "print (starttime)\n",
    "\n",
    "# 12.继续训练模型，训练最后两个 Inception block 和两个全连接层\n",
    "Inceptionfile_hdf5 ='saved_models/weights.best.Inception.hdf5'\n",
    "\n",
    "# 模型保存\n",
    "checkpointer = ModelCheckpoint(filepath=Inceptionfile_hdf5, verbose=1, save_best_only=True)\n",
    "\n",
    "# 可视化\n",
    "tensorboard = TensorBoard(log_dir='log')\n",
    "\n",
    "# 自动停止训练\n",
    "# monitor: 需要监视的变量\n",
    "# patience:在发现变量没有变化后的多少个epoch停止\n",
    "# verbose:信息展示模式\n",
    "early_stopping = EarlyStopping(monitor='val_loss', patience=patience, verbose=1)\n",
    "\n",
    "\n",
    "callback_lists = [tensorboard, checkpointer, early_stopping]\n",
    "\n",
    "# # 训练模型\n",
    "history_callback_2 = model.fit(train_tensors, train_targets, validation_split=0.2,\n",
    "         epochs=epochs, batch_size=batch_size,callbacks=callback_lists,shuffle='True',verbose=1)\n",
    "\n",
    "# history_callback_2 = model.fit(train_tensors, train_targets, batch_size=batch_size, \n",
    "#                                epochs=epochs, validation_split=0.2, verbose=1, callbacks=callback_lists)\n",
    "\n",
    "\n",
    "endtime = time.strftime('end time:%Y-%m-%d %H:%M:%S', time.localtime()) \n",
    "print (endtime)"
   ]
  },
  {
   "cell_type": "code",
   "execution_count": null,
   "metadata": {
    "collapsed": true
   },
   "outputs": [],
   "source": [
    "# 展示logloss趋势\n",
    "show_logloss(history_callback_2)"
   ]
  },
  {
   "cell_type": "markdown",
   "metadata": {},
   "source": [
    "## 2.2 测试模型\n",
    "\n",
    "在测试数据集上试用训练后的模型"
   ]
  },
  {
   "cell_type": "code",
   "execution_count": null,
   "metadata": {
    "collapsed": true
   },
   "outputs": [],
   "source": [
    "import pandas as pd\n",
    "from keras.preprocessing.image import *\n",
    "\n",
    "## 加载具有最好验证loss的模型\n",
    "starttime = time.strftime('start time:%Y.%m.%d %H:%M:%S',time.localtime(time.time()))\n",
    "print (starttime)\n",
    "\n",
    "model.load_weights(Inceptionfile_hdf5)\n",
    "\n",
    "# # 获取测试数据集中每一个图像所预测的狗品种的index\n",
    "# dog_breed_predictions = [np.argmax(model.predict(np.expand_dims(tensor, axis=0))) for tensor in test_tensors]\n",
    "# # 报告测试准确率\n",
    "# test_accuracy = 100*np.sum(np.array(dog_breed_predictions)==np.argmax(test_targets, axis=1))/len(dog_breed_predictions)\n",
    "# print('Test accuracy: %.4f%%' % test_accuracy)\n",
    "\n",
    "\n",
    "y_pred = model.predict(test_tensors, verbose=1)\n",
    "y_pred = y_pred.clip(min=0.005, max=0.995)\n",
    "\n",
    "df = pd.read_csv(\"sample_submission.csv\")\n",
    "\n",
    "gen = ImageDataGenerator()\n",
    "print(testnew_path)\n",
    "test_generator = gen.flow_from_directory(testnew_path, (299, 299), shuffle=False, \n",
    "                                         batch_size=16, class_mode=None)\n",
    "\n",
    "endtime = time.strftime('end time:%Y.%m.%d %H:%M:%S',time.localtime(time.time()))\n",
    "print (endtime)\n",
    "\n"
   ]
  },
  {
   "cell_type": "code",
   "execution_count": null,
   "metadata": {
    "collapsed": true
   },
   "outputs": [],
   "source": [
    "for i, fname in enumerate(test_generator.filenames):\n",
    "    index = int(fname[fname.rfind('/')+1:fname.rfind('.')])\n",
    "    df.set_value(index-1, 'label', y_pred[i][0])\n",
    "\n",
    "df.to_csv('pred.csv', index=None)\n",
    "df.head(10)"
   ]
  },
  {
   "cell_type": "markdown",
   "metadata": {},
   "source": [
    "## 2.3 提交 kaggle测试得分"
   ]
  },
  {
   "cell_type": "code",
   "execution_count": null,
   "metadata": {
    "collapsed": true
   },
   "outputs": [],
   "source": [
    "# kaggle competitions submit -c dogs-vs-cats-redux-kernels-edition -f submission.csv -m \"Message\""
   ]
  },
  {
   "cell_type": "code",
   "execution_count": null,
   "metadata": {
    "collapsed": true
   },
   "outputs": [],
   "source": []
  }
 ],
 "metadata": {
  "anaconda-cloud": {},
  "kernelspec": {
   "display_name": "Python 3",
   "language": "python",
   "name": "python3"
  },
  "language_info": {
   "codemirror_mode": {
    "name": "ipython",
    "version": 3
   },
   "file_extension": ".py",
   "mimetype": "text/x-python",
   "name": "python",
   "nbconvert_exporter": "python",
   "pygments_lexer": "ipython3",
   "version": "3.6.1"
  }
 },
 "nbformat": 4,
 "nbformat_minor": 2
}
