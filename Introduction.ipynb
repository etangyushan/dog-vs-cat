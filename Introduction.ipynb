{
 "cells": [
  {
   "cell_type": "markdown",
   "metadata": {
    "collapsed": true
   },
   "source": [
    "# 1 探索数据\n",
    "\n",
    "\n",
    "数据集使用 kaggle 数据集，解压后存放在images目录下\n",
    "- 训练数据集路径：\n",
    "images/train\n",
    "- 测试数据集路径：\n",
    "images/test"
   ]
  },
  {
   "cell_type": "markdown",
   "metadata": {},
   "source": [
    "# 1.1 整理数据集\n",
    " \n",
    "这里由于 trian 文件夹下的猫和狗的数据是混在一起的，需要将猫和狗的图片分别存储。\n",
    "\n",
    "图片的命名规则：类别.编码.jpg\n",
    "\n",
    "**注意：这里的处理只需要运行一次即可**\n"
   ]
  },
  {
   "cell_type": "code",
   "execution_count": 1,
   "metadata": {},
   "outputs": [
    {
     "name": "stdout",
     "output_type": "stream",
     "text": [
      "Linux\n"
     ]
    }
   ],
   "source": [
    "import os\n",
    "import shutil\n",
    "import time\n",
    "import numpy as np\n",
    "import matplotlib.pyplot as plt\n",
    "from glob import glob\n",
    "from scipy.stats import mode as spmode\n",
    "from PIL import ImageFile\n",
    "from PIL import Image\n",
    "import platform\n",
    "\n",
    "print(platform.system())"
   ]
  },
  {
   "cell_type": "code",
   "execution_count": 2,
   "metadata": {
    "collapsed": true
   },
   "outputs": [],
   "source": [
    "# windows分隔符\n",
    "splitflag = \"\\\\\"\n",
    "if (platform.system() == 'Linux'):\n",
    "    splitflag = \"/\"\n",
    "\n",
    "#处理的样本量\n",
    "train_limitcount = 1000\n",
    "test_limitcount = -1 #不限制个数全部使用\n",
    "\n",
    "def create_dir(path):\n",
    "    '''\n",
    "    创建文件夹\n",
    "    '''\n",
    "    if (os.path.exists(path) == False):\n",
    "        os.mkdir (path)\n",
    "    else:\n",
    "        print('文件夹已经存在：%s' % path)\n",
    "\n",
    "# 限制训练文件数量,0不限制\n",
    "def copy_image_bytype(srcpath, destpath, limitcount = 0):\n",
    "    '''\n",
    "    将猫狗文件分别拷贝到不同文件夹下\n",
    "    '''\n",
    "    \n",
    "    filenames = [item.split(splitflag)[-1] for item in sorted(srcpath)]\n",
    "    \n",
    "    count = 0\n",
    "    for src,name in zip(srcpath,filenames):\n",
    "        dst = destpath + \"/\" + name\n",
    "        if (os.path.exists(dst) == False):\n",
    "            shutil.copyfile(src, dst)\n",
    "\n",
    "        count += 1\n",
    "        \n",
    "        # 跳出循环\n",
    "        if (limitcount == count):\n",
    "            break\n",
    "            \n",
    "    return count\n",
    "\n",
    "def file_move(srcpath, despath):\n",
    "    filenames = [item.split(splitflag)[-1] for item in sorted(srcpath)]\n",
    "    count = len(filenames)\n",
    "        \n",
    "    for src,name in zip(srcpath,filenames):\n",
    "        dst = despath + \"/\" + name\n",
    "        if (os.path.exists(src) == True):\n",
    "            shutil.move(src, dst)\n",
    "            \n",
    "    return count\n",
    "        \n",
    "    "
   ]
  },
  {
   "cell_type": "code",
   "execution_count": 3,
   "metadata": {
    "scrolled": true
   },
   "outputs": [],
   "source": [
    "# 创建文件夹\n",
    "notmatch_path='images/notmatchs'\n",
    "all_path = 'images/all'\n",
    "train_path = 'images/all/trainnew'\n",
    "dog_path = 'images/all/trainnew/dogs'\n",
    "cat_path = 'images/all/trainnew/cats'\n",
    "\n",
    "testnew_path = 'images/all/testnew'\n",
    "test_path = 'images/all/testnew/test'\n",
    "\n",
    "create_dir(notmatch_path)\n",
    "create_dir(all_path)\n",
    "\n",
    "create_dir(train_path)\n",
    "create_dir(dog_path)\n",
    "create_dir(cat_path)\n",
    "\n",
    "create_dir(testnew_path)\n",
    "create_dir(test_path)\n"
   ]
  },
  {
   "cell_type": "code",
   "execution_count": 4,
   "metadata": {},
   "outputs": [
    {
     "name": "stdout",
     "output_type": "stream",
     "text": [
      "There are 1000 total dog categories.\n"
     ]
    }
   ],
   "source": [
    "# 处理狗\n",
    "dogs_all = glob(\"images/train/dog.*\")\n",
    "\n",
    "# 整理狗数据\n",
    "count = copy_image_bytype(dogs_all, dog_path, train_limitcount)\n",
    "\n",
    "print('There are %d total dog categories.' % count)\n"
   ]
  },
  {
   "cell_type": "code",
   "execution_count": 5,
   "metadata": {},
   "outputs": [
    {
     "name": "stdout",
     "output_type": "stream",
     "text": [
      "There are 1000 total cat categories.\n"
     ]
    }
   ],
   "source": [
    "# 处理猫\n",
    "cats_all = glob(\"images/train/cat.*\")\n",
    "\n",
    "# 整理猫数据\n",
    "count = copy_image_bytype(cats_all, cat_path, train_limitcount)\n",
    "\n",
    "print('There are %d total cat categories.' % count)\n"
   ]
  },
  {
   "cell_type": "code",
   "execution_count": 6,
   "metadata": {},
   "outputs": [
    {
     "name": "stdout",
     "output_type": "stream",
     "text": [
      "There are 12500 total test categories.\n"
     ]
    }
   ],
   "source": [
    "# 处理测试数据\n",
    "test_all = glob(\"images/test/*\")\n",
    "\n",
    "# 整理猫数据\n",
    "count = copy_image_bytype(test_all, test_path, test_limitcount)\n",
    "\n",
    "print('There are %d total test categories.' % count)\n"
   ]
  },
  {
   "cell_type": "code",
   "execution_count": 7,
   "metadata": {},
   "outputs": [
    {
     "name": "stdout",
     "output_type": "stream",
     "text": [
      "1000\n",
      "1000\n",
      "12500\n"
     ]
    }
   ],
   "source": [
    "#当前使用的样例\n",
    "dogs_list = glob(dog_path+'/dog.*')\n",
    "cats_list = glob(cat_path+'/cat.*')\n",
    "test_list = glob(test_path+'/*')\n",
    "\n",
    "print(len(dogs_list))\n",
    "print(len(cats_list))\n",
    "print(len(test_list))"
   ]
  },
  {
   "cell_type": "markdown",
   "metadata": {},
   "source": [
    "## 1.2 数据可视化"
   ]
  },
  {
   "cell_type": "code",
   "execution_count": 8,
   "metadata": {
    "collapsed": true
   },
   "outputs": [],
   "source": [
    "\n",
    "\n",
    "def get_filesizes(paths):\n",
    "    '''\n",
    "    获取文件大小\n",
    "    '''\n",
    "    filesizes = []\n",
    "    for path in paths:\n",
    "        size = os.path.getsize(path)\n",
    "        filesizes.append(size)\n",
    "    return filesizes\n",
    "\n",
    "def get_filepixs(paths):\n",
    "    '''\n",
    "    获取像素：长和宽\n",
    "    '''\n",
    "    filepixs = []\n",
    "    xpixs = []\n",
    "    ypixs = []\n",
    "    for path in paths:\n",
    "        img = Image.open(path)\n",
    "        pix = img.size #图片的长和宽\n",
    "        xpixs.append(pix[0]) #图片的宽\n",
    "        ypixs.append(pix[1]) #图片的长\n",
    "        if (pix[0] > 1000):\n",
    "            print(path)\n",
    "    filepixs.append(xpixs)\n",
    "    filepixs.append(ypixs)    \n",
    "    \n",
    "    return filepixs\n",
    "    \n",
    "def draw_hist(mylist, title, xlabel, ylabel, xmin, xmax, ymin, ymax):\n",
    "    '''\n",
    "    绘制直方图，参数依次为list,抬头,X轴标签,Y轴标签,XY轴的范围\n",
    "    '''\n",
    "    plt.hist(mylist, 100)\n",
    "    plt.xlabel(xlabel)\n",
    "    plt.ylabel(ylabel)\n",
    "    plt.title(title)\n",
    "    plt.show()\n",
    "    \n",
    "def draw_scatter(x1, y1, title, label):\n",
    "    '''\n",
    "    绘制像素的散点图\n",
    "    '''\n",
    "    plt.scatter(x1, y1, marker = 'x',color = 'red', s = 40 ,label = label)\n",
    "    plt.xlabel('wide')\n",
    "    plt.ylabel('length')\n",
    "    plt.title(title)\n",
    "    \n",
    "#     plt.xlim(-1.5, 1.5)\n",
    "#     plt.xticks(())  # ignore xticks\n",
    "#     plt.ylim(-1.5, 1.5)\n",
    "#     plt.yticks(())  # ignore yticks\n",
    "\n",
    "    plt.show()   \n",
    "\n",
    "    \n",
    "def show_filesize(paths):\n",
    "    '''\n",
    "    展示文件大小分布\n",
    "    '''\n",
    "    filesizes = get_filesizes(paths)\n",
    "\n",
    "    # train 中文件的的最小值、最大值、中位数、众数\n",
    "    train_min = np.min(filesizes)\n",
    "    print('train 中文件的的最小值:', train_min)\n",
    "    train_max = np.max(filesizes)\n",
    "    print('train 中文件的的最大值:', train_max)\n",
    "    train_median = np.median(filesizes)\n",
    "    print('train 中文件的的中位数:', train_median)\n",
    "    train_mode = spmode(filesizes)\n",
    "    print('train 中文件的的众数:', train_mode)\n",
    "        \n",
    "    title = 'file size distribute'\n",
    "    xlabel = 'file size'\n",
    "    ylabel = 'file count'\n",
    "    xmin = np.min(filesizes)\n",
    "    xmax = np.max(filesizes)\n",
    "    ymin = 0\n",
    "    ymax = 1200\n",
    "    draw_hist(filesizes, title, xlabel, ylabel, xmin, xmax, ymin, ymax)\n",
    "\n",
    "def show_filepix(paths):\n",
    "    '''\n",
    "    显示像素分布\n",
    "    '''\n",
    "    filepixs = get_filepixs(paths)\n",
    "    title = 'file pix distribute'\n",
    "    draw_scatter(filepixs[0], filepixs[1], title, 'dog')    "
   ]
  },
  {
   "cell_type": "code",
   "execution_count": 9,
   "metadata": {},
   "outputs": [
    {
     "data": {
      "image/png": "[encoded data removed]",
      "text/plain": [
       "<matplotlib.figure.Figure at 0x7f5e14786e10>"
      ]
     },
     "metadata": {},
     "output_type": "display_data"
    }
   ],
   "source": [
    "# 狗的数据集图片大小分布\n",
    "\n",
    "show_filepix(dogs_list)"
   ]
  },
  {
   "cell_type": "code",
   "execution_count": 10,
   "metadata": {},
   "outputs": [
    {
     "data": {
      "image/png": "[encoded data removed]",
      "text/plain": [
       "<matplotlib.figure.Figure at 0x7f5dc4e5f390>"
      ]
     },
     "metadata": {},
     "output_type": "display_data"
    }
   ],
   "source": [
    "# 猫的数据集图片大小分布\n",
    "show_filepix(cats_list)"
   ]
  },
  {
   "cell_type": "code",
   "execution_count": 11,
   "metadata": {
    "collapsed": true
   },
   "outputs": [],
   "source": [
    "# 训练数据集文件大小的分布\n",
    "# show_filesize(dogs_list)        \n"
   ]
  },
  {
   "cell_type": "code",
   "execution_count": 12,
   "metadata": {
    "collapsed": true
   },
   "outputs": [],
   "source": [
    "# 测试数据集文件大小的分布\n",
    "# show_filesize(cats_list)        \n"
   ]
  },
  {
   "cell_type": "markdown",
   "metadata": {},
   "source": [
    "## 1.4 数据预处理"
   ]
  },
  {
   "cell_type": "markdown",
   "metadata": {},
   "source": [
    "### 1.4.1 异常数据清理\n",
    "\n",
    "异常数据有:\n",
    "\n",
    "标签与图片信息不相符的，例如：虽然标识了是狗的图片，但是图片中没有狗。\n",
    "\n",
    "照片的背景过于复杂，识别起来很困难，例如：虽然有狗但是有很多干扰元素。\n",
    "\n",
    "这里选择4种算法:ResNet50, VGG19, Xception, InceptionV3 获取的并集进行数据清理\n",
    "\n"
   ]
  },
  {
   "cell_type": "code",
   "execution_count": 13,
   "metadata": {},
   "outputs": [
    {
     "name": "stderr",
     "output_type": "stream",
     "text": [
      "Using TensorFlow backend.\n"
     ]
    }
   ],
   "source": [
    "from keras.preprocessing import image\n",
    "\n",
    "\n",
    "#可能概率前几个类型\n",
    "topparma = 50\n",
    "# 筛选的数量\n",
    "doglimit = train_limitcount\n",
    "catlimit = train_limitcount\n",
    "\n",
    "\n",
    "# 对 ImageNet 分类进行分析\n",
    "# 狗分类：118种，猫分类：7种\n",
    "\n",
    "ImageNetdogs = [\n",
    " 'n02085620','n02085782','n02085936','n02086079'\n",
    ",'n02086240','n02086646','n02086910','n02087046'\n",
    ",'n02087394','n02088094','n02088238','n02088364'\n",
    ",'n02088466','n02088632','n02089078','n02089867'\n",
    ",'n02089973','n02090379','n02090622','n02090721'\n",
    ",'n02091032','n02091134','n02091244','n02091467'\n",
    ",'n02091635','n02091831','n02092002','n02092339'\n",
    ",'n02093256','n02093428','n02093647','n02093754'\n",
    ",'n02093859','n02093991','n02094114','n02094258'\n",
    ",'n02094433','n02095314','n02095570','n02095889'\n",
    ",'n02096051','n02096177','n02096294','n02096437'\n",
    ",'n02096585','n02097047','n02097130','n02097209'\n",
    ",'n02097298','n02097474','n02097658','n02098105'\n",
    ",'n02098286','n02098413','n02099267','n02099429'\n",
    ",'n02099601','n02099712','n02099849','n02100236'\n",
    ",'n02100583','n02100735','n02100877','n02101006'\n",
    ",'n02101388','n02101556','n02102040','n02102177'\n",
    ",'n02102318','n02102480','n02102973','n02104029'\n",
    ",'n02104365','n02105056','n02105162','n02105251'\n",
    ",'n02105412','n02105505','n02105641','n02105855'\n",
    ",'n02106030','n02106166','n02106382','n02106550'\n",
    ",'n02106662','n02107142','n02107312','n02107574'\n",
    ",'n02107683','n02107908','n02108000','n02108089'\n",
    ",'n02108422','n02108551','n02108915','n02109047'\n",
    ",'n02109525','n02109961','n02110063','n02110185'\n",
    ",'n02110341','n02110627','n02110806','n02110958'\n",
    ",'n02111129','n02111277','n02111500','n02111889'\n",
    ",'n02112018','n02112137','n02112350','n02112706'\n",
    ",'n02113023','n02113186','n02113624','n02113712'\n",
    ",'n02113799','n02113978']\n",
    "\n",
    "ImageNetcats=[\n",
    "'n02123045','n02123159','n02123394','n02123597'\n",
    ",'n02124075','n02125311','n02127052']"
   ]
  },
  {
   "cell_type": "code",
   "execution_count": 14,
   "metadata": {
    "collapsed": true
   },
   "outputs": [],
   "source": [
    "def get_not_animalarray(model, top, animalarray,img_paths, xsize, ysize):\n",
    "    '''\n",
    "    清理数据集中不是对应标签的文件\n",
    "    model:模型\n",
    "    top:可能概率前几个类型\n",
    "    animalarray: ImageNet分类集\n",
    "    img_paths:数据集路径\n",
    "    x:图片宽\n",
    "    y:图片高\n",
    "    '''\n",
    "    animals = []\n",
    "    for img_path in img_paths:\n",
    "        img = image.load_img(img_path, target_size=(xsize, ysize))\n",
    "        imgarray = image.img_to_array(img)\n",
    "        imgarray = np.expand_dims(imgarray, axis=0)\n",
    "        imgarray = preprocess_input(imgarray)\n",
    "\n",
    "        preds = model.predict(imgarray)\n",
    "        predarray = decode_predictions(preds, top=top)\n",
    "#         sorted(tmparray, key=lambda tmp: tmp[2], reverse=True) \n",
    "\n",
    "        # 判断是否有指定类型存在\n",
    "        existflag = False\n",
    "        for n in range(top):\n",
    "            animal = predarray[0][n][0]\n",
    "            if animal in animalarray:\n",
    "                existflag = True\n",
    "                break\n",
    "        if existflag == False:\n",
    "            animals.append(img_path)\n",
    "            \n",
    "    return animals\n",
    "\n",
    "# [[('n02092002', 'Scottish_deerhound', 0.21568948),('n02097130', 'giant_schnauzer', 0.074100845)]]"
   ]
  },
  {
   "cell_type": "markdown",
   "metadata": {},
   "source": [
    "#### 利用ResNet50网络进行ImageNet分类"
   ]
  },
  {
   "cell_type": "code",
   "execution_count": 15,
   "metadata": {},
   "outputs": [
    {
     "name": "stdout",
     "output_type": "stream",
     "text": [
      "['images/all/trainnew/dogs/dog.10480.jpg']\n",
      "['images/all/trainnew/dogs/dog.10480.jpg']\n"
     ]
    }
   ],
   "source": [
    "from keras.applications.resnet50 import ResNet50\n",
    "from keras.applications.resnet50 import preprocess_input, decode_predictions\n",
    "\n",
    "\n",
    "ResNet50_model = ResNet50(weights='imagenet')\n",
    "\n",
    "# 不是狗的\n",
    "ResNet50_notdogs = get_not_animalarray(ResNet50_model, topparma, ImageNetdogs, dogs_list[0:doglimit], 224, 224)\n",
    "print(ResNet50_notdogs)\n",
    "\n",
    "# 不是猫的\n",
    "ResNet50_notcats = get_not_animalarray(ResNet50_model, topparma, ImageNetcats, cats_list[0:catlimit], 224, 224)\n",
    "print(ResNet50_notdogs)   "
   ]
  },
  {
   "cell_type": "markdown",
   "metadata": {},
   "source": [
    "#### 利用VGG19网络进行ImageNet分类"
   ]
  },
  {
   "cell_type": "code",
   "execution_count": 16,
   "metadata": {},
   "outputs": [
    {
     "name": "stdout",
     "output_type": "stream",
     "text": [
      "['images/all/trainnew/dogs/dog.10480.jpg', 'images/all/trainnew/dogs/dog.10868.jpg']\n",
      "['images/all/trainnew/cats/cat.10744.jpg', 'images/all/trainnew/cats/cat.10278.jpg', 'images/all/trainnew/cats/cat.10312.jpg', 'images/all/trainnew/cats/cat.10739.jpg', 'images/all/trainnew/cats/cat.10712.jpg', 'images/all/trainnew/cats/cat.10129.jpg', 'images/all/trainnew/cats/cat.101.jpg', 'images/all/trainnew/cats/cat.10131.jpg', 'images/all/trainnew/cats/cat.10189.jpg', 'images/all/trainnew/cats/cat.10534.jpg', 'images/all/trainnew/cats/cat.10697.jpg', 'images/all/trainnew/cats/cat.10179.jpg']\n"
     ]
    }
   ],
   "source": [
    "from keras.applications.vgg19 import VGG19\n",
    "from keras.applications.vgg19 import preprocess_input,decode_predictions\n",
    "\n",
    "\n",
    "VGG19_model = VGG19(weights='imagenet')\n",
    "\n",
    "# 不是狗的\n",
    "VGG19_notdogs = get_not_animalarray(VGG19_model, topparma, ImageNetdogs, dogs_list[0:doglimit], 224, 224)\n",
    "print(VGG19_notdogs)\n",
    "\n",
    "# 不是猫的\n",
    "VGG19_notcats = get_not_animalarray(VGG19_model, topparma, ImageNetcats, cats_list[0:catlimit], 224, 224)\n",
    "print(VGG19_notcats)   "
   ]
  },
  {
   "cell_type": "markdown",
   "metadata": {},
   "source": [
    "#### 利用Xception网络进行ImageNet分类"
   ]
  },
  {
   "cell_type": "code",
   "execution_count": 17,
   "metadata": {},
   "outputs": [
    {
     "name": "stdout",
     "output_type": "stream",
     "text": [
      "['images/all/trainnew/dogs/dog.10480.jpg', 'images/all/trainnew/dogs/dog.10868.jpg']\n",
      "['images/all/trainnew/cats/cat.10744.jpg', 'images/all/trainnew/cats/cat.10312.jpg', 'images/all/trainnew/cats/cat.10179.jpg']\n"
     ]
    }
   ],
   "source": [
    "from keras.applications.xception import Xception\n",
    "from keras.applications.xception import preprocess_input,decode_predictions\n",
    "\n",
    "\n",
    "Xception_model = Xception(weights='imagenet')\n",
    "\n",
    "# 不是狗的\n",
    "Xception_notdogs = get_not_animalarray(Xception_model, topparma, ImageNetdogs, dogs_list[0:doglimit], 299, 299)\n",
    "print(Xception_notdogs)\n",
    "\n",
    "# 不是猫的\n",
    "Xception_notcats = get_not_animalarray(Xception_model, topparma, ImageNetcats, cats_list[0:catlimit], 299, 299)\n",
    "print(Xception_notcats) "
   ]
  },
  {
   "cell_type": "markdown",
   "metadata": {},
   "source": [
    "#### 利用InceptionV3网络进行ImageNet分类"
   ]
  },
  {
   "cell_type": "code",
   "execution_count": 18,
   "metadata": {},
   "outputs": [
    {
     "name": "stdout",
     "output_type": "stream",
     "text": [
      "['images/all/trainnew/dogs/dog.10480.jpg', 'images/all/trainnew/dogs/dog.10868.jpg']\n",
      "['images/all/trainnew/cats/cat.10801.jpg', 'images/all/trainnew/cats/cat.10312.jpg', 'images/all/trainnew/cats/cat.10797.jpg', 'images/all/trainnew/cats/cat.10689.jpg', 'images/all/trainnew/cats/cat.101.jpg', 'images/all/trainnew/cats/cat.10131.jpg']\n"
     ]
    }
   ],
   "source": [
    "from keras.applications.inception_v3 import InceptionV3\n",
    "from keras.applications.inception_v3 import preprocess_input,decode_predictions\n",
    "\n",
    "InceptionV3_model = InceptionV3(weights='imagenet')\n",
    "\n",
    "# 不是狗的\n",
    "InceptionV3_notdogs = get_not_animalarray(InceptionV3_model, topparma, ImageNetdogs, dogs_list[0:doglimit], 299, 299)\n",
    "print(InceptionV3_notdogs)\n",
    "\n",
    "# 不是猫的\n",
    "InceptionV3_notcats = get_not_animalarray(InceptionV3_model, topparma, ImageNetcats, cats_list[0:catlimit], 299, 299)\n",
    "print(InceptionV3_notcats) "
   ]
  },
  {
   "cell_type": "markdown",
   "metadata": {},
   "source": [
    "#### 合并结果集"
   ]
  },
  {
   "cell_type": "code",
   "execution_count": 19,
   "metadata": {},
   "outputs": [
    {
     "name": "stdout",
     "output_type": "stream",
     "text": [
      "['images/all/trainnew/dogs/dog.10480.jpg', 'images/all/trainnew/dogs/dog.10868.jpg']\n",
      "['images/all/trainnew/cats/cat.10189.jpg', 'images/all/trainnew/cats/cat.10179.jpg', 'images/all/trainnew/cats/cat.10801.jpg', 'images/all/trainnew/cats/cat.10534.jpg', 'images/all/trainnew/dogs/dog.10480.jpg', 'images/all/trainnew/cats/cat.10689.jpg', 'images/all/trainnew/cats/cat.10278.jpg', 'images/all/trainnew/cats/cat.10697.jpg', 'images/all/trainnew/cats/cat.10131.jpg', 'images/all/trainnew/cats/cat.10744.jpg', 'images/all/trainnew/cats/cat.10312.jpg', 'images/all/trainnew/cats/cat.10401.jpg', 'images/all/trainnew/cats/cat.10712.jpg', 'images/all/trainnew/cats/cat.101.jpg', 'images/all/trainnew/cats/cat.10739.jpg', 'images/all/trainnew/cats/cat.10702.jpg', 'images/all/trainnew/dogs/dog.10868.jpg', 'images/all/trainnew/cats/cat.10797.jpg', 'images/all/trainnew/cats/cat.10129.jpg', 'images/all/trainnew/cats/cat.10749.jpg']\n"
     ]
    }
   ],
   "source": [
    "# 合并所有的结果，取并集\n",
    "notdogs = ResNet50_notdogs + VGG19_notdogs + Xception_notdogs + InceptionV3_notdogs\n",
    "notdogs = list(set(notdogs))\n",
    "print(notdogs)\n",
    "\n",
    "notcats = ResNet50_notcats + VGG19_notcats + Xception_notcats + InceptionV3_notdogs\n",
    "notcats = list(set(notcats))\n",
    "print(notcats)\n",
    "\n",
    "\n",
    "notmatchs = notdogs + notcats"
   ]
  },
  {
   "cell_type": "markdown",
   "metadata": {},
   "source": [
    "#### 剔除异常数据"
   ]
  },
  {
   "cell_type": "code",
   "execution_count": 20,
   "metadata": {
    "collapsed": true
   },
   "outputs": [],
   "source": [
    "import cv2\n",
    "import  matplotlib.pyplot as plt\n",
    "\n",
    "def show_multiple_image(images):\n",
    "    '''\n",
    "    展示多组图片\n",
    "    '''\n",
    "    count = 1\n",
    "    row = len(images) / 4\n",
    "    col = 4\n",
    "    if (row < 1):\n",
    "        row = 1\n",
    "    for image in images:\n",
    "        plt.figure(num='astronaut', figsize =(12,15))  #创建一个名为astronaut的窗口,并设置大小 \n",
    "        img = plt.imread(image)  \n",
    "        if (count == 1):\n",
    "            plt.subplot(row,col,count)     #将窗口分为两行两列四个子图，则可显示四幅图片\n",
    "            plt.title(image.split(splitflag)[-1])   #第一幅图片标题l\n",
    "            plt.imshow(img)      #绘制第一幅图片\n",
    "        else:\n",
    "            plt.subplot(row,col,count)     #第三个子图\n",
    "            plt.title(image.split(splitflag)[-1])   #第一幅图片标题l\n",
    "            plt.imshow(img)      #绘制第一幅图片\n",
    "\n",
    "        if (count >= 8):\n",
    "            count += 1\n",
    "        else:\n",
    "            count += 1\n",
    "\n",
    "    plt.show()   #显示窗口\n",
    "\n",
    "\n",
    "# test1=['images/all/testnew/test\\\\1.jpg', 'images/all/testnew/test\\\\10.jpg', 'images/all/testnew/test\\\\100.jpg', 'images/all/testnew/test\\\\1000.jpg']    \n",
    "# test2=['images/all/testnew/test\\\\1.jpg', 'images/all/testnew/test\\\\10.jpg', 'images/all/testnew/test\\\\100.jpg', 'images/all/testnew/test\\\\1000.jpg']    \n",
    "# test3=['images/all/testnew/test\\\\1.jpg', 'images/all/testnew/test\\\\10.jpg', 'images/all/testnew/test\\\\100.jpg', 'images/all/testnew/test\\\\1000.jpg']    \n",
    "# test4=['images/all/testnew/test\\\\101.jpg', 'images/all/testnew/test\\\\102.jpg', 'images/all/testnew/test\\\\100.jpg', 'images/all/testnew/test\\\\1000.jpg']    \n",
    "# test5=[]\n",
    "# test = test1+ test2 + test3 + test4\n",
    "# print(len(notmatchs))\n",
    "# show_multiple_image(notmatchs)    "
   ]
  },
  {
   "cell_type": "code",
   "execution_count": 21,
   "metadata": {},
   "outputs": [
    {
     "data": {
      "text/plain": [
       "22"
      ]
     },
     "execution_count": 21,
     "metadata": {},
     "output_type": "execute_result"
    }
   ],
   "source": [
    "# 剔除异常数据\n",
    "file_move(notmatchs, notmatch_path)"
   ]
  },
  {
   "cell_type": "markdown",
   "metadata": {},
   "source": [
    "### 1.4.2 分割数据集"
   ]
  },
  {
   "cell_type": "code",
   "execution_count": 22,
   "metadata": {
    "collapsed": true
   },
   "outputs": [],
   "source": [
    "from keras.preprocessing.image import ImageDataGenerator\n",
    "from keras.applications.inception_v3 import InceptionV3,preprocess_input\n",
    "from keras.layers import GlobalAveragePooling2D,Dense\n",
    "from keras.models import Model\n",
    "from keras.utils.vis_utils import plot_model\n",
    "from keras.optimizers import Adagrad\n",
    "from sklearn.datasets import load_files\n",
    "from keras.utils import np_utils\n",
    "from sklearn.model_selection import train_test_split"
   ]
  },
  {
   "cell_type": "code",
   "execution_count": 23,
   "metadata": {},
   "outputs": [
    {
     "name": "stdout",
     "output_type": "stream",
     "text": [
      "训练集数据总数：1980\n",
      "1584\n",
      "396\n",
      "测试集数据总数：12500\n"
     ]
    }
   ],
   "source": [
    "# 加载 train 测试数据集\n",
    "train_data = load_files(train_path)\n",
    "\n",
    "# 加载 test 测试数据集\n",
    "test_data = load_files(testnew_path)    \n",
    "\n",
    "trainall_file = np.array(train_data['filenames'])\n",
    "trainall_targets = np_utils.to_categorical(np.array(train_data['target']), 2)\n",
    "# print(type(train_data))\n",
    "# print(train_targets)\n",
    "\n",
    "# 展示训练数据集\n",
    "print('训练集数据总数：%d' % len(trainall_file))\n",
    "\n",
    "\n",
    "# 将原来的训练数据分割成训练数据集和验证数据集，比例为20%\n",
    "train_files, valid_files, train_targets, valid_targets = train_test_split(trainall_file, trainall_targets, test_size=0.2)\n",
    "\n",
    "print(len(train_files))\n",
    "print(len(valid_files))\n",
    "# print(tarin_targets)\n",
    "# print(valid_targets)\n",
    "\n",
    "\n",
    "test_files = np.array(test_data['filenames'])\n",
    "test_targets = np_utils.to_categorical(np.array(test_data['target']), 1)\n",
    "\n",
    "# 展示测试数据集\n",
    "print('测试集数据总数：%d' % len(test_files))\n"
   ]
  },
  {
   "cell_type": "markdown",
   "metadata": {},
   "source": [
    "### 1.4.3 图像预处理\n",
    "\n",
    "通过对每张图像的像素值除以299，我们对图像实现了归一化处理"
   ]
  },
  {
   "cell_type": "code",
   "execution_count": 24,
   "metadata": {
    "collapsed": true
   },
   "outputs": [],
   "source": [
    "from keras.preprocessing import image\n",
    "from tqdm import tqdm\n",
    "from PIL import ImageFile  \n",
    "\n",
    "ImageFile.LOAD_TRUNCATED_IMAGES = True                 \n",
    "\n",
    "def path_to_tensor(img_path):\n",
    "#     print(img_path)\n",
    "    # 用PIL加载RGB图像为PIL.Image.Image类型\n",
    "    img = image.load_img(img_path,target_size=(299,299))\n",
    "    \n",
    "    #将PIL.Image.Image类型转化为格式为(299,299,3)的3维张量\n",
    "    x = image.img_to_array(img)\n",
    "    \n",
    "    #将3维张量转化为格式为(1, 299, 299, 3) 的4维张量并返回\n",
    "    return np.expand_dims(x, axis=0)\n",
    "\n",
    "def paths_to_tensor(img_paths):\n",
    "    list_of_tensors = [path_to_tensor(img_path) for img_path in tqdm(img_paths)]\n",
    "    return np.vstack(list_of_tensors)\n",
    "\n",
    "# img_path='images/all/train/trainnew/cats/cat.4424.jpg'\n",
    "# path_to_tensor(img_path)\n",
    "\n",
    "\n"
   ]
  },
  {
   "cell_type": "markdown",
   "metadata": {},
   "source": [
    "#### 归一化处理"
   ]
  },
  {
   "cell_type": "code",
   "execution_count": 25,
   "metadata": {
    "scrolled": true
   },
   "outputs": [
    {
     "name": "stderr",
     "output_type": "stream",
     "text": [
      "  2%|▏         | 31/1584 [00:00<00:05, 300.43it/s]"
     ]
    },
    {
     "name": "stdout",
     "output_type": "stream",
     "text": [
      "start time:2018-09-18 17:39:25\n"
     ]
    },
    {
     "name": "stderr",
     "output_type": "stream",
     "text": [
      "100%|██████████| 1584/1584 [00:05<00:00, 287.74it/s]\n"
     ]
    },
    {
     "name": "stdout",
     "output_type": "stream",
     "text": [
      "end time:2018-09-18 17:39:33\n"
     ]
    }
   ],
   "source": [
    "starttime = time.strftime('start time:%Y-%m-%d %H:%M:%S', time.localtime()) \n",
    "print (starttime)\n",
    "\n",
    "# 训练集预处理\n",
    "train_tensors = paths_to_tensor(train_files).astype('float32')/127.5 - 1\n",
    "\n",
    "\n",
    "endtime = time.strftime('end time:%Y-%m-%d %H:%M:%S', time.localtime()) \n",
    "print (endtime)"
   ]
  },
  {
   "cell_type": "code",
   "execution_count": 26,
   "metadata": {},
   "outputs": [
    {
     "name": "stderr",
     "output_type": "stream",
     "text": [
      "  8%|▊         | 33/396 [00:00<00:01, 323.92it/s]"
     ]
    },
    {
     "name": "stdout",
     "output_type": "stream",
     "text": [
      "start time:2018-09-18 17:39:33\n"
     ]
    },
    {
     "name": "stderr",
     "output_type": "stream",
     "text": [
      "100%|██████████| 396/396 [00:01<00:00, 295.56it/s]\n"
     ]
    },
    {
     "name": "stdout",
     "output_type": "stream",
     "text": [
      "end time:2018-09-18 17:39:34\n"
     ]
    }
   ],
   "source": [
    "starttime = time.strftime('start time:%Y-%m-%d %H:%M:%S', time.localtime()) \n",
    "print (starttime)\n",
    "\n",
    "# 验证集预处理\n",
    "valid_tensors = paths_to_tensor(valid_files).astype('float32')/127.5 - 1\n",
    "\n",
    "\n",
    "endtime = time.strftime('end time:%Y-%m-%d %H:%M:%S', time.localtime()) \n",
    "print (endtime)"
   ]
  },
  {
   "cell_type": "code",
   "execution_count": 27,
   "metadata": {},
   "outputs": [
    {
     "name": "stderr",
     "output_type": "stream",
     "text": [
      "  0%|          | 36/12500 [00:00<00:35, 350.44it/s]"
     ]
    },
    {
     "name": "stdout",
     "output_type": "stream",
     "text": [
      "start time:2018-09-18 17:39:34\n"
     ]
    },
    {
     "name": "stderr",
     "output_type": "stream",
     "text": [
      "100%|██████████| 12500/12500 [00:43<00:00, 287.48it/s]\n"
     ]
    },
    {
     "name": "stdout",
     "output_type": "stream",
     "text": [
      "end time:2018-09-18 17:40:31\n"
     ]
    }
   ],
   "source": [
    "starttime = time.strftime('start time:%Y-%m-%d %H:%M:%S', time.localtime()) \n",
    "print (starttime)\n",
    "\n",
    "# 测试集预处理\n",
    "test_tensors = paths_to_tensor(test_files).astype('float32')/127.5 - 1\n",
    "\n",
    "endtime = time.strftime('end time:%Y-%m-%d %H:%M:%S', time.localtime()) \n",
    "print (endtime)"
   ]
  },
  {
   "cell_type": "markdown",
   "metadata": {
    "collapsed": true
   },
   "source": [
    "# 2 构建模型\n",
    "\n"
   ]
  },
  {
   "cell_type": "markdown",
   "metadata": {},
   "source": [
    "## 2.1 训练模型\n",
    "\n",
    "训练 InceptionV3 模型"
   ]
  },
  {
   "cell_type": "code",
   "execution_count": 28,
   "metadata": {
    "collapsed": true
   },
   "outputs": [],
   "source": [
    "from keras.preprocessing import image\n",
    "from keras.models import Model\n",
    "from keras.layers import Dense, GlobalAveragePooling2D\n",
    "from keras import backend as K\n",
    "from keras.callbacks import ModelCheckpoint\n",
    "from keras.callbacks import TensorBoard\n",
    "from keras.layers import Dense, Dropout, Flatten, Input\n",
    "\n",
    "#epochs = 300\n",
    "epochs = 40\n",
    "batch_size = 64\n",
    "patience=5\n",
    "\n",
    "# logloss 趋势图\n",
    "def show_logloss(history_callback):\n",
    "    plt.plot(history_callback.history['loss'])\n",
    "    plt.plot(history_callback.history['val_loss'])\n",
    "    plt.title(\"model loss\")\n",
    "    plt.ylabel(\"loss\")\n",
    "    plt.xlabel(\"epoch\")\n",
    "    plt.legend([\"train\",\"valid\"],loc=\"upper left\")\n",
    "\n",
    "    plt.show()\n",
    "\n",
    "# 准确率趋势图\n",
    "def show_acc(history_callback):\n",
    "    plt.plot(history_callback.history['acc'])\n",
    "    plt.plot(history_callback.history['val_acc'])\n",
    "    plt.title(\"model acc\")\n",
    "    plt.ylabel(\"acc\")\n",
    "    plt.xlabel(\"epoch\")\n",
    "    plt.legend([\"train\",\"test\"],loc=\"upper left\")\n",
    "\n",
    "    plt.show()"
   ]
  },
  {
   "cell_type": "code",
   "execution_count": 29,
   "metadata": {},
   "outputs": [],
   "source": [
    "# 1.构建不带分类器的预训练模型\n",
    "base_model = InceptionV3(weights='imagenet',include_top=False) "
   ]
  },
  {
   "cell_type": "code",
   "execution_count": 30,
   "metadata": {
    "collapsed": true
   },
   "outputs": [],
   "source": [
    "# 2.添加全局平均池化层\n",
    "x = base_model.output\n",
    "x = GlobalAveragePooling2D()(x)\n"
   ]
  },
  {
   "cell_type": "code",
   "execution_count": 31,
   "metadata": {
    "collapsed": true
   },
   "outputs": [],
   "source": [
    "# 3.全连接层，可选，如果精度够用则可以不加\n",
    "# x = Dense(1024, activation='relu')(x)\n"
   ]
  },
  {
   "cell_type": "code",
   "execution_count": 32,
   "metadata": {
    "collapsed": true
   },
   "outputs": [],
   "source": [
    "# 4. 添加一个分类器，使用 1 个神经元，sigmoid激活函数\n",
    "predictions = Dense(2, activation='sigmoid')(x)\n"
   ]
  },
  {
   "cell_type": "code",
   "execution_count": 33,
   "metadata": {},
   "outputs": [
    {
     "data": {
      "text/plain": [
       "<keras.layers.core.Dropout at 0x7f5c510e8cf8>"
      ]
     },
     "execution_count": 33,
     "metadata": {},
     "output_type": "execute_result"
    }
   ],
   "source": [
    "# 5. 构建我们需要训练的完整模型\n",
    "model = Model(inputs=base_model.input, outputs=predictions)\n",
    "Dropout(0.5)"
   ]
  },
  {
   "cell_type": "code",
   "execution_count": 34,
   "metadata": {
    "collapsed": true
   },
   "outputs": [],
   "source": [
    "# GPU 支持\n",
    "# from keras.utils import multi_gpu_model\n",
    "\n",
    "# Replicates `model` on 8 GPUs.\n",
    "# This assumes that your machine has 8 available GPUs.\n",
    "# parallel_model = multi_gpu_model(model, gpus=8)"
   ]
  },
  {
   "cell_type": "code",
   "execution_count": 35,
   "metadata": {
    "collapsed": true
   },
   "outputs": [],
   "source": [
    "# 6.首先只训练顶部的几层（随机初始化的层），锁住所有 InceptionV3d 卷积层\n",
    "for layer in base_model.layers:\n",
    "    layer.trainable = False\n"
   ]
  },
  {
   "cell_type": "code",
   "execution_count": 36,
   "metadata": {},
   "outputs": [
    {
     "name": "stdout",
     "output_type": "stream",
     "text": [
      "start time:2018-09-18 17:40:39\n",
      "end time:2018-09-18 17:40:39\n"
     ]
    }
   ],
   "source": [
    "starttime = time.strftime('start time:%Y-%m-%d %H:%M:%S', time.localtime()) \n",
    "print (starttime)\n",
    "\n",
    "# 7.编译模型（一定要在锁层以后操作）\n",
    "model.compile(optimizer='rmsprop', loss='categorical_crossentropy',metrics=['accuracy'])\n",
    "\n",
    "\n",
    "endtime = time.strftime('end time:%Y-%m-%d %H:%M:%S', time.localtime()) \n",
    "print (endtime)"
   ]
  },
  {
   "cell_type": "code",
   "execution_count": 37,
   "metadata": {},
   "outputs": [
    {
     "name": "stdout",
     "output_type": "stream",
     "text": [
      "start time:2018-09-18 17:40:39\n",
      "Train on 1584 samples, validate on 396 samples\n",
      "Epoch 1/40\n",
      "1584/1584 [==============================] - 260s - loss: 0.4122 - acc: 0.8264 - val_loss: 0.1534 - val_acc: 0.9722\n",
      "Epoch 2/40\n",
      "1584/1584 [==============================] - 260s - loss: 0.1913 - acc: 0.9495 - val_loss: 0.0859 - val_acc: 0.9798\n",
      "Epoch 3/40\n",
      "1584/1584 [==============================] - 260s - loss: 0.1421 - acc: 0.9628 - val_loss: 0.0679 - val_acc: 0.9773\n",
      "Epoch 4/40\n",
      "1584/1584 [==============================] - 259s - loss: 0.1056 - acc: 0.9691 - val_loss: 0.0542 - val_acc: 0.9874\n",
      "Epoch 5/40\n",
      "1584/1584 [==============================] - 260s - loss: 0.1018 - acc: 0.9716 - val_loss: 0.0510 - val_acc: 0.9874\n",
      "Epoch 6/40\n",
      "1584/1584 [==============================] - 260s - loss: 0.0732 - acc: 0.9830 - val_loss: 0.0482 - val_acc: 0.9899\n",
      "Epoch 7/40\n",
      "1584/1584 [==============================] - 260s - loss: 0.0636 - acc: 0.9855 - val_loss: 0.1630 - val_acc: 0.9293\n",
      "Epoch 8/40\n",
      "1584/1584 [==============================] - 260s - loss: 0.0702 - acc: 0.9735 - val_loss: 0.0601 - val_acc: 0.9823\n",
      "Epoch 9/40\n",
      "1584/1584 [==============================] - 260s - loss: 0.0650 - acc: 0.9817 - val_loss: 0.0478 - val_acc: 0.9848\n",
      "Epoch 10/40\n",
      "1584/1584 [==============================] - 260s - loss: 0.0632 - acc: 0.9766 - val_loss: 0.0811 - val_acc: 0.9672\n",
      "Epoch 11/40\n",
      "1584/1584 [==============================] - 260s - loss: 0.0535 - acc: 0.9811 - val_loss: 0.0634 - val_acc: 0.9798\n",
      "Epoch 12/40\n",
      "1584/1584 [==============================] - 260s - loss: 0.0469 - acc: 0.9867 - val_loss: 0.0445 - val_acc: 0.9823\n",
      "Epoch 13/40\n",
      "1584/1584 [==============================] - 260s - loss: 0.0517 - acc: 0.9848 - val_loss: 0.0422 - val_acc: 0.9874\n",
      "Epoch 14/40\n",
      "1584/1584 [==============================] - 260s - loss: 0.0429 - acc: 0.9855 - val_loss: 0.0450 - val_acc: 0.9848\n",
      "Epoch 15/40\n",
      "1584/1584 [==============================] - 260s - loss: 0.0357 - acc: 0.9905 - val_loss: 0.0773 - val_acc: 0.9798\n",
      "Epoch 16/40\n",
      "1584/1584 [==============================] - 260s - loss: 0.0388 - acc: 0.9880 - val_loss: 0.0396 - val_acc: 0.9874\n",
      "Epoch 17/40\n",
      "1584/1584 [==============================] - 260s - loss: 0.0387 - acc: 0.9905 - val_loss: 0.0392 - val_acc: 0.9848\n",
      "Epoch 18/40\n",
      "1584/1584 [==============================] - 260s - loss: 0.0304 - acc: 0.9899 - val_loss: 0.0403 - val_acc: 0.9848\n",
      "Epoch 19/40\n",
      "1584/1584 [==============================] - 260s - loss: 0.0299 - acc: 0.9899 - val_loss: 0.0525 - val_acc: 0.9798\n",
      "Epoch 20/40\n",
      "1584/1584 [==============================] - 260s - loss: 0.0280 - acc: 0.9943 - val_loss: 0.0420 - val_acc: 0.9848\n",
      "Epoch 21/40\n",
      "1584/1584 [==============================] - 260s - loss: 0.0289 - acc: 0.9905 - val_loss: 0.0798 - val_acc: 0.9722\n",
      "Epoch 22/40\n",
      "1584/1584 [==============================] - 260s - loss: 0.0355 - acc: 0.9886 - val_loss: 0.0648 - val_acc: 0.9798\n",
      "Epoch 23/40\n",
      "1584/1584 [==============================] - 260s - loss: 0.0226 - acc: 0.9962 - val_loss: 0.0372 - val_acc: 0.9848\n",
      "Epoch 24/40\n",
      "1584/1584 [==============================] - 260s - loss: 0.0316 - acc: 0.9912 - val_loss: 0.0364 - val_acc: 0.9874\n",
      "Epoch 25/40\n",
      "1584/1584 [==============================] - 260s - loss: 0.0217 - acc: 0.9962 - val_loss: 0.0367 - val_acc: 0.9874\n",
      "Epoch 26/40\n",
      "1584/1584 [==============================] - 260s - loss: 0.0246 - acc: 0.9956 - val_loss: 0.0438 - val_acc: 0.9798\n",
      "Epoch 27/40\n",
      "1584/1584 [==============================] - 260s - loss: 0.0352 - acc: 0.9893 - val_loss: 0.0363 - val_acc: 0.9874\n",
      "Epoch 28/40\n",
      "1584/1584 [==============================] - 259s - loss: 0.0181 - acc: 0.9962 - val_loss: 0.0386 - val_acc: 0.9798\n",
      "Epoch 29/40\n",
      "1584/1584 [==============================] - 260s - loss: 0.0210 - acc: 0.9968 - val_loss: 0.0339 - val_acc: 0.9848\n",
      "Epoch 30/40\n",
      "1584/1584 [==============================] - 260s - loss: 0.0226 - acc: 0.9931 - val_loss: 0.0521 - val_acc: 0.9798\n",
      "Epoch 31/40\n",
      "1584/1584 [==============================] - 260s - loss: 0.0202 - acc: 0.9943 - val_loss: 0.0686 - val_acc: 0.9773\n",
      "Epoch 32/40\n",
      "1584/1584 [==============================] - 260s - loss: 0.0269 - acc: 0.9918 - val_loss: 0.0332 - val_acc: 0.9848\n",
      "Epoch 33/40\n",
      "1584/1584 [==============================] - 260s - loss: 0.0126 - acc: 0.9987 - val_loss: 0.0436 - val_acc: 0.9848\n",
      "Epoch 34/40\n",
      "1584/1584 [==============================] - 261s - loss: 0.0145 - acc: 0.9975 - val_loss: 0.0328 - val_acc: 0.9848\n",
      "Epoch 35/40\n",
      "1584/1584 [==============================] - 260s - loss: 0.0181 - acc: 0.9943 - val_loss: 0.0333 - val_acc: 0.9899\n",
      "Epoch 36/40\n",
      "1584/1584 [==============================] - 260s - loss: 0.0242 - acc: 0.9924 - val_loss: 0.0362 - val_acc: 0.9874\n",
      "Epoch 37/40\n",
      "1584/1584 [==============================] - 260s - loss: 0.0195 - acc: 0.9943 - val_loss: 0.0335 - val_acc: 0.9848\n",
      "Epoch 38/40\n",
      "1584/1584 [==============================] - 260s - loss: 0.0207 - acc: 0.9931 - val_loss: 0.0616 - val_acc: 0.9773\n",
      "Epoch 39/40\n",
      "1584/1584 [==============================] - 260s - loss: 0.0174 - acc: 0.9968 - val_loss: 0.0448 - val_acc: 0.9798\n",
      "Epoch 40/40\n",
      "1584/1584 [==============================] - 261s - loss: 0.0188 - acc: 0.9937 - val_loss: 0.0399 - val_acc: 0.9798\n",
      "Epoch 00039: early stopping\n",
      "end time:2018-09-18 20:34:14\n"
     ]
    }
   ],
   "source": [
    "starttime = time.strftime('start time:%Y-%m-%d %H:%M:%S', time.localtime()) \n",
    "print (starttime)\n",
    "\n",
    "# 8. 在新的数据集上训练几代\n",
    "# early stoppping \n",
    "from keras.callbacks import EarlyStopping\n",
    "\n",
    "# monitor: 需要监视的变量\n",
    "# patience:在发现变量没有变化后的多少个epoch停止\n",
    "# verbose:信息展示模式\n",
    "early_stopping = EarlyStopping(monitor='val_loss', patience=patience, verbose=1)\n",
    "\n",
    "tensorboard = TensorBoard(log_dir='log')\n",
    "callback_lists = [tensorboard, early_stopping]\n",
    "history_callback = model.fit(train_tensors, train_targets, validation_data=(valid_tensors, valid_targets),\n",
    "         epochs=epochs, batch_size=batch_size, verbose=1, callbacks=callback_lists)\n",
    "\n",
    "\n",
    "endtime = time.strftime('end time:%Y-%m-%d %H:%M:%S', time.localtime()) \n",
    "print (endtime)"
   ]
  },
  {
   "cell_type": "code",
   "execution_count": 38,
   "metadata": {},
   "outputs": [
    {
     "data": {
      "image/png": "[encoded data removed]",
      "text/plain": [
       "<matplotlib.figure.Figure at 0x7f5c511b3908>"
      ]
     },
     "metadata": {},
     "output_type": "display_data"
    }
   ],
   "source": [
    "# 展示logloss趋势\n",
    "show_logloss(history_callback)"
   ]
  },
  {
   "cell_type": "code",
   "execution_count": 39,
   "metadata": {
    "collapsed": true
   },
   "outputs": [],
   "source": [
    "# 9.现在顶层应该训练好了，开始微调 InceptionV3的卷积层。\n",
    "#锁住底下的几层，然后训练其余的顶层。查看每一层的名字和层号，看看应该锁多少层\n",
    "# for i, layer in enumerate(base_model.layers):\n",
    "#     print(i, layer.name)\n",
    " "
   ]
  },
  {
   "cell_type": "code",
   "execution_count": 40,
   "metadata": {
    "collapsed": true
   },
   "outputs": [],
   "source": [
    "# 10.我们选择训练最上面的两个 Inception block, 锁住前面249层，然后放开之后的层\n",
    "for layer in model.layers[:249]:\n",
    "    layer.trainable = False\n",
    "for layer in model.layers[249:]:\n",
    "    layer.trainable = True\n"
   ]
  },
  {
   "cell_type": "code",
   "execution_count": 41,
   "metadata": {},
   "outputs": [
    {
     "name": "stdout",
     "output_type": "stream",
     "text": [
      "compile ok\n"
     ]
    }
   ],
   "source": [
    "from keras.optimizers import SGD\n",
    "\n",
    "# 11.重新编译模型，使上面的修改生效，设置一个很低的学习率:lr=0.001，使用SGD来微调\n",
    "model.compile(optimizer=SGD(lr=0.001, momentum=0.9), loss='categorical_crossentropy',metrics=['accuracy'])\n",
    "print('compile ok')"
   ]
  },
  {
   "cell_type": "code",
   "execution_count": 42,
   "metadata": {},
   "outputs": [
    {
     "name": "stdout",
     "output_type": "stream",
     "text": [
      "start time:2018-09-18 20:34:14\n",
      "Train on 1584 samples, validate on 396 samples\n",
      "Epoch 1/40\n",
      "1536/1584 [============================>.] - ETA: 7s - loss: 0.0204 - acc: 0.9941 Epoch 00000: val_loss improved from inf to 0.03680, saving model to saved_models/weights.best.Inception.hdf5\n",
      "1584/1584 [==============================] - 324s - loss: 0.0204 - acc: 0.9943 - val_loss: 0.0368 - val_acc: 0.9848\n",
      "Epoch 2/40\n",
      "1536/1584 [============================>.] - ETA: 7s - loss: 0.0150 - acc: 0.9967 Epoch 00001: val_loss improved from 0.03680 to 0.02970, saving model to saved_models/weights.best.Inception.hdf5\n",
      "1584/1584 [==============================] - 297s - loss: 0.0147 - acc: 0.9968 - val_loss: 0.0297 - val_acc: 0.9924\n",
      "Epoch 3/40\n",
      "1536/1584 [============================>.] - ETA: 7s - loss: 0.0058 - acc: 1.0000 Epoch 00002: val_loss improved from 0.02970 to 0.02772, saving model to saved_models/weights.best.Inception.hdf5\n",
      "1584/1584 [==============================] - 298s - loss: 0.0056 - acc: 1.0000 - val_loss: 0.0277 - val_acc: 0.9924\n",
      "Epoch 4/40\n",
      "1536/1584 [============================>.] - ETA: 7s - loss: 0.0041 - acc: 1.0000 Epoch 00003: val_loss improved from 0.02772 to 0.02668, saving model to saved_models/weights.best.Inception.hdf5\n",
      "1584/1584 [==============================] - 304s - loss: 0.0040 - acc: 1.0000 - val_loss: 0.0267 - val_acc: 0.9924\n",
      "Epoch 5/40\n",
      "1536/1584 [============================>.] - ETA: 7s - loss: 0.0058 - acc: 0.9993 Epoch 00004: val_loss improved from 0.02668 to 0.02585, saving model to saved_models/weights.best.Inception.hdf5\n",
      "1584/1584 [==============================] - 301s - loss: 0.0057 - acc: 0.9994 - val_loss: 0.0259 - val_acc: 0.9924\n",
      "Epoch 6/40\n",
      "1536/1584 [============================>.] - ETA: 7s - loss: 0.0062 - acc: 0.9993 Epoch 00005: val_loss did not improve\n",
      "1584/1584 [==============================] - 300s - loss: 0.0062 - acc: 0.9994 - val_loss: 0.0259 - val_acc: 0.9924\n",
      "Epoch 7/40\n",
      "1536/1584 [============================>.] - ETA: 7s - loss: 0.0033 - acc: 1.0000 Epoch 00006: val_loss improved from 0.02585 to 0.02541, saving model to saved_models/weights.best.Inception.hdf5\n",
      "1584/1584 [==============================] - 301s - loss: 0.0032 - acc: 1.0000 - val_loss: 0.0254 - val_acc: 0.9924\n",
      "Epoch 8/40\n",
      "1536/1584 [============================>.] - ETA: 7s - loss: 0.0032 - acc: 0.9993 Epoch 00007: val_loss improved from 0.02541 to 0.02518, saving model to saved_models/weights.best.Inception.hdf5\n",
      "1584/1584 [==============================] - 301s - loss: 0.0031 - acc: 0.9994 - val_loss: 0.0252 - val_acc: 0.9924\n",
      "Epoch 9/40\n",
      "1536/1584 [============================>.] - ETA: 7s - loss: 0.0025 - acc: 1.0000 Epoch 00008: val_loss improved from 0.02518 to 0.02498, saving model to saved_models/weights.best.Inception.hdf5\n",
      "1584/1584 [==============================] - 301s - loss: 0.0026 - acc: 1.0000 - val_loss: 0.0250 - val_acc: 0.9899\n",
      "Epoch 10/40\n",
      "1536/1584 [============================>.] - ETA: 7s - loss: 0.0028 - acc: 1.0000 Epoch 00009: val_loss improved from 0.02498 to 0.02485, saving model to saved_models/weights.best.Inception.hdf5\n",
      "1584/1584 [==============================] - 299s - loss: 0.0027 - acc: 1.0000 - val_loss: 0.0249 - val_acc: 0.9924\n",
      "Epoch 11/40\n",
      "1536/1584 [============================>.] - ETA: 7s - loss: 0.0025 - acc: 1.0000 Epoch 00010: val_loss improved from 0.02485 to 0.02440, saving model to saved_models/weights.best.Inception.hdf5\n",
      "1584/1584 [==============================] - 299s - loss: 0.0024 - acc: 1.0000 - val_loss: 0.0244 - val_acc: 0.9924\n",
      "Epoch 12/40\n",
      "1536/1584 [============================>.] - ETA: 7s - loss: 0.0018 - acc: 1.0000 Epoch 00011: val_loss improved from 0.02440 to 0.02394, saving model to saved_models/weights.best.Inception.hdf5\n",
      "1584/1584 [==============================] - 299s - loss: 0.0018 - acc: 1.0000 - val_loss: 0.0239 - val_acc: 0.9924\n",
      "Epoch 13/40\n",
      "1536/1584 [============================>.] - ETA: 7s - loss: 0.0017 - acc: 1.0000 Epoch 00012: val_loss improved from 0.02394 to 0.02362, saving model to saved_models/weights.best.Inception.hdf5\n",
      "1584/1584 [==============================] - 299s - loss: 0.0017 - acc: 1.0000 - val_loss: 0.0236 - val_acc: 0.9924\n",
      "Epoch 14/40\n",
      "1536/1584 [============================>.] - ETA: 7s - loss: 0.0022 - acc: 1.0000 Epoch 00013: val_loss improved from 0.02362 to 0.02298, saving model to saved_models/weights.best.Inception.hdf5\n",
      "1584/1584 [==============================] - 299s - loss: 0.0021 - acc: 1.0000 - val_loss: 0.0230 - val_acc: 0.9924\n",
      "Epoch 15/40\n",
      "1536/1584 [============================>.] - ETA: 7s - loss: 0.0025 - acc: 1.0000 Epoch 00014: val_loss improved from 0.02298 to 0.02261, saving model to saved_models/weights.best.Inception.hdf5\n",
      "1584/1584 [==============================] - 299s - loss: 0.0030 - acc: 0.9994 - val_loss: 0.0226 - val_acc: 0.9924\n",
      "Epoch 16/40\n",
      "1536/1584 [============================>.] - ETA: 7s - loss: 0.0017 - acc: 1.0000 Epoch 00015: val_loss improved from 0.02261 to 0.02254, saving model to saved_models/weights.best.Inception.hdf5\n",
      "1584/1584 [==============================] - 299s - loss: 0.0017 - acc: 1.0000 - val_loss: 0.0225 - val_acc: 0.9924\n",
      "Epoch 17/40\n",
      "1536/1584 [============================>.] - ETA: 7s - loss: 0.0027 - acc: 1.0000 Epoch 00016: val_loss did not improve\n",
      "1584/1584 [==============================] - 299s - loss: 0.0027 - acc: 1.0000 - val_loss: 0.0227 - val_acc: 0.9924\n",
      "Epoch 18/40\n",
      "1536/1584 [============================>.] - ETA: 7s - loss: 0.0022 - acc: 1.0000 Epoch 00017: val_loss improved from 0.02254 to 0.02217, saving model to saved_models/weights.best.Inception.hdf5\n",
      "1584/1584 [==============================] - 300s - loss: 0.0021 - acc: 1.0000 - val_loss: 0.0222 - val_acc: 0.9924\n",
      "Epoch 19/40\n",
      "1536/1584 [============================>.] - ETA: 7s - loss: 7.3983e-04 - acc: 1.0000 Epoch 00018: val_loss improved from 0.02217 to 0.02204, saving model to saved_models/weights.best.Inception.hdf5\n",
      "1584/1584 [==============================] - 300s - loss: 7.3147e-04 - acc: 1.0000 - val_loss: 0.0220 - val_acc: 0.9924\n",
      "Epoch 20/40\n",
      "1536/1584 [============================>.] - ETA: 7s - loss: 0.0012 - acc: 1.0000 Epoch 00019: val_loss improved from 0.02204 to 0.02167, saving model to saved_models/weights.best.Inception.hdf5\n",
      "1584/1584 [==============================] - 300s - loss: 0.0012 - acc: 1.0000 - val_loss: 0.0217 - val_acc: 0.9924\n",
      "Epoch 21/40\n",
      "1536/1584 [============================>.] - ETA: 7s - loss: 0.0011 - acc: 1.0000   Epoch 00020: val_loss improved from 0.02167 to 0.02159, saving model to saved_models/weights.best.Inception.hdf5\n",
      "1584/1584 [==============================] - 300s - loss: 0.0011 - acc: 1.0000 - val_loss: 0.0216 - val_acc: 0.9924\n",
      "Epoch 22/40\n",
      "1536/1584 [============================>.] - ETA: 7s - loss: 0.0020 - acc: 1.0000 Epoch 00021: val_loss improved from 0.02159 to 0.02155, saving model to saved_models/weights.best.Inception.hdf5\n",
      "1584/1584 [==============================] - 300s - loss: 0.0019 - acc: 1.0000 - val_loss: 0.0215 - val_acc: 0.9924\n",
      "Epoch 23/40\n",
      "1536/1584 [============================>.] - ETA: 7s - loss: 0.0011 - acc: 1.0000 Epoch 00022: val_loss improved from 0.02155 to 0.02132, saving model to saved_models/weights.best.Inception.hdf5\n",
      "1584/1584 [==============================] - 300s - loss: 0.0011 - acc: 1.0000 - val_loss: 0.0213 - val_acc: 0.9924\n",
      "Epoch 24/40\n",
      "1536/1584 [============================>.] - ETA: 7s - loss: 0.0025 - acc: 0.9993 Epoch 00023: val_loss improved from 0.02132 to 0.02095, saving model to saved_models/weights.best.Inception.hdf5\n",
      "1584/1584 [==============================] - 300s - loss: 0.0024 - acc: 0.9994 - val_loss: 0.0209 - val_acc: 0.9924\n",
      "Epoch 25/40\n",
      "1536/1584 [============================>.] - ETA: 7s - loss: 0.0012 - acc: 1.0000 Epoch 00024: val_loss improved from 0.02095 to 0.02093, saving model to saved_models/weights.best.Inception.hdf5\n",
      "1584/1584 [==============================] - 300s - loss: 0.0012 - acc: 1.0000 - val_loss: 0.0209 - val_acc: 0.9924\n",
      "Epoch 26/40\n",
      "1536/1584 [============================>.] - ETA: 7s - loss: 8.4770e-04 - acc: 1.0000 Epoch 00025: val_loss improved from 0.02093 to 0.02083, saving model to saved_models/weights.best.Inception.hdf5\n"
     ]
    },
    {
     "name": "stdout",
     "output_type": "stream",
     "text": [
      "1584/1584 [==============================] - 300s - loss: 8.2983e-04 - acc: 1.0000 - val_loss: 0.0208 - val_acc: 0.9924\n",
      "Epoch 27/40\n",
      "1536/1584 [============================>.] - ETA: 7s - loss: 0.0020 - acc: 1.0000 Epoch 00026: val_loss improved from 0.02083 to 0.02075, saving model to saved_models/weights.best.Inception.hdf5\n",
      "1584/1584 [==============================] - 300s - loss: 0.0020 - acc: 1.0000 - val_loss: 0.0207 - val_acc: 0.9924\n",
      "Epoch 28/40\n",
      "1536/1584 [============================>.] - ETA: 7s - loss: 0.0020 - acc: 1.0000 Epoch 00027: val_loss did not improve\n",
      "1584/1584 [==============================] - 300s - loss: 0.0021 - acc: 1.0000 - val_loss: 0.0211 - val_acc: 0.9924\n",
      "Epoch 29/40\n",
      "1536/1584 [============================>.] - ETA: 7s - loss: 0.0011 - acc: 1.0000 Epoch 00028: val_loss did not improve\n",
      "1584/1584 [==============================] - 300s - loss: 0.0011 - acc: 1.0000 - val_loss: 0.0209 - val_acc: 0.9924\n",
      "Epoch 30/40\n",
      "1536/1584 [============================>.] - ETA: 7s - loss: 8.8536e-04 - acc: 1.0000 Epoch 00029: val_loss did not improve\n",
      "1584/1584 [==============================] - 299s - loss: 8.6902e-04 - acc: 1.0000 - val_loss: 0.0212 - val_acc: 0.9924\n",
      "Epoch 31/40\n",
      "1536/1584 [============================>.] - ETA: 7s - loss: 8.2099e-04 - acc: 1.0000 Epoch 00030: val_loss did not improve\n",
      "1584/1584 [==============================] - 300s - loss: 9.2278e-04 - acc: 1.0000 - val_loss: 0.0210 - val_acc: 0.9924\n",
      "Epoch 32/40\n",
      "1536/1584 [============================>.] - ETA: 7s - loss: 0.0011 - acc: 1.0000 Epoch 00031: val_loss did not improve\n",
      "1584/1584 [==============================] - 300s - loss: 0.0011 - acc: 1.0000 - val_loss: 0.0211 - val_acc: 0.9924\n",
      "Epoch 33/40\n",
      "1536/1584 [============================>.] - ETA: 7s - loss: 0.0016 - acc: 1.0000 Epoch 00032: val_loss improved from 0.02075 to 0.02069, saving model to saved_models/weights.best.Inception.hdf5\n",
      "1584/1584 [==============================] - 301s - loss: 0.0016 - acc: 1.0000 - val_loss: 0.0207 - val_acc: 0.9924\n",
      "Epoch 34/40\n",
      "1536/1584 [============================>.] - ETA: 7s - loss: 8.8170e-04 - acc: 1.0000 Epoch 00033: val_loss improved from 0.02069 to 0.02055, saving model to saved_models/weights.best.Inception.hdf5\n",
      "1584/1584 [==============================] - 300s - loss: 8.6505e-04 - acc: 1.0000 - val_loss: 0.0205 - val_acc: 0.9924\n",
      "Epoch 35/40\n",
      "1536/1584 [============================>.] - ETA: 7s - loss: 8.2719e-04 - acc: 1.0000 Epoch 00034: val_loss did not improve\n",
      "1584/1584 [==============================] - 300s - loss: 8.1428e-04 - acc: 1.0000 - val_loss: 0.0206 - val_acc: 0.9924\n",
      "Epoch 36/40\n",
      "1536/1584 [============================>.] - ETA: 7s - loss: 7.4696e-04 - acc: 1.0000 Epoch 00035: val_loss improved from 0.02055 to 0.02050, saving model to saved_models/weights.best.Inception.hdf5\n",
      "1584/1584 [==============================] - 301s - loss: 7.4026e-04 - acc: 1.0000 - val_loss: 0.0205 - val_acc: 0.9924\n",
      "Epoch 37/40\n",
      "1536/1584 [============================>.] - ETA: 7s - loss: 8.7403e-04 - acc: 1.0000 Epoch 00036: val_loss improved from 0.02050 to 0.02043, saving model to saved_models/weights.best.Inception.hdf5\n",
      "1584/1584 [==============================] - 301s - loss: 8.6300e-04 - acc: 1.0000 - val_loss: 0.0204 - val_acc: 0.9924\n",
      "Epoch 38/40\n",
      "1536/1584 [============================>.] - ETA: 7s - loss: 8.5809e-04 - acc: 1.0000 Epoch 00037: val_loss improved from 0.02043 to 0.02025, saving model to saved_models/weights.best.Inception.hdf5\n",
      "1584/1584 [==============================] - 301s - loss: 8.8071e-04 - acc: 1.0000 - val_loss: 0.0203 - val_acc: 0.9924\n",
      "Epoch 39/40\n",
      "1536/1584 [============================>.] - ETA: 7s - loss: 7.7530e-04 - acc: 1.0000 Epoch 00038: val_loss improved from 0.02025 to 0.01994, saving model to saved_models/weights.best.Inception.hdf5\n",
      "1584/1584 [==============================] - 301s - loss: 7.6423e-04 - acc: 1.0000 - val_loss: 0.0199 - val_acc: 0.9924\n",
      "Epoch 40/40\n",
      "1536/1584 [============================>.] - ETA: 7s - loss: 6.5883e-04 - acc: 1.0000 Epoch 00039: val_loss did not improve\n",
      "1584/1584 [==============================] - 300s - loss: 6.5419e-04 - acc: 1.0000 - val_loss: 0.0199 - val_acc: 0.9924\n",
      "end time:2018-09-18 23:55:06\n"
     ]
    }
   ],
   "source": [
    "\n",
    "\n",
    "starttime = time.strftime('start time:%Y-%m-%d %H:%M:%S', time.localtime()) \n",
    "print (starttime)\n",
    "\n",
    "# 12.继续训练模型，训练最后两个 Inception block 和两个全连接层\n",
    "Inceptionfile_hdf5 ='saved_models/weights.best.Inception.hdf5'\n",
    "\n",
    "# 模型保存\n",
    "checkpointer = ModelCheckpoint(filepath=Inceptionfile_hdf5, verbose=1, save_best_only=True)\n",
    "\n",
    "# 可视化\n",
    "tensorboard = TensorBoard(log_dir='log')\n",
    "\n",
    "# 自动停止训练\n",
    "# monitor: 需要监视的变量\n",
    "# patience:在发现变量没有变化后的多少个epoch停止\n",
    "# verbose:信息展示模式\n",
    "early_stopping = EarlyStopping(monitor='val_loss', patience=5, verbose=1)\n",
    "\n",
    "\n",
    "callback_lists = [tensorboard, checkpointer, early_stopping]\n",
    "\n",
    "# # 训练模型\n",
    "history_callback = model.fit(train_tensors, train_targets, validation_data=(valid_tensors, valid_targets),\n",
    "         epochs=epochs, batch_size=batch_size,callbacks=callback_lists,shuffle='True',verbose=1)\n",
    "\n",
    "\n",
    "endtime = time.strftime('end time:%Y-%m-%d %H:%M:%S', time.localtime()) \n",
    "print (endtime)"
   ]
  },
  {
   "cell_type": "code",
   "execution_count": 43,
   "metadata": {},
   "outputs": [
    {
     "data": {
      "image/png": "[encoded data removed]",
      "text/plain": [
       "<matplotlib.figure.Figure at 0x7f5c510ed668>"
      ]
     },
     "metadata": {},
     "output_type": "display_data"
    }
   ],
   "source": [
    "# 展示logloss趋势\n",
    "show_logloss(history_callback)"
   ]
  },
  {
   "cell_type": "markdown",
   "metadata": {},
   "source": [
    "## 2.2 测试模型\n",
    "\n",
    "在测试数据集上试用训练后的模型"
   ]
  },
  {
   "cell_type": "code",
   "execution_count": 44,
   "metadata": {},
   "outputs": [
    {
     "name": "stdout",
     "output_type": "stream",
     "text": [
      "start time:2018.09.18 23:55:06\n",
      "12500/12500 [==============================] - 1823s  \n",
      "images/all/testnew\n",
      "Found 12500 images belonging to 1 classes.\n",
      "end time:2018.09.19 00:25:31\n"
     ]
    }
   ],
   "source": [
    "import pandas as pd\n",
    "from keras.preprocessing.image import *\n",
    "\n",
    "## 加载具有最好验证loss的模型\n",
    "starttime = time.strftime('start time:%Y.%m.%d %H:%M:%S',time.localtime(time.time()))\n",
    "print (starttime)\n",
    "\n",
    "model.load_weights(Inceptionfile_hdf5)\n",
    "\n",
    "# # 获取测试数据集中每一个图像所预测的狗品种的index\n",
    "# dog_breed_predictions = [np.argmax(model.predict(np.expand_dims(tensor, axis=0))) for tensor in test_tensors]\n",
    "# # 报告测试准确率\n",
    "# test_accuracy = 100*np.sum(np.array(dog_breed_predictions)==np.argmax(test_targets, axis=1))/len(dog_breed_predictions)\n",
    "# print('Test accuracy: %.4f%%' % test_accuracy)\n",
    "\n",
    "\n",
    "y_pred = model.predict(test_tensors, verbose=1)\n",
    "y_pred = y_pred.clip(min=0.005, max=0.995)\n",
    "\n",
    "df = pd.read_csv(\"sample_submission.csv\")\n",
    "\n",
    "gen = ImageDataGenerator()\n",
    "print(testnew_path)\n",
    "test_generator = gen.flow_from_directory(testnew_path, (299, 299), shuffle=False, \n",
    "                                         batch_size=16, class_mode=None)\n",
    "\n",
    "endtime = time.strftime('end time:%Y.%m.%d %H:%M:%S',time.localtime(time.time()))\n",
    "print (endtime)\n",
    "\n"
   ]
  },
  {
   "cell_type": "code",
   "execution_count": 45,
   "metadata": {},
   "outputs": [
    {
     "data": {
      "text/html": [
       "<div>\n",
       "<style>\n",
       "    .dataframe thead tr:only-child th {\n",
       "        text-align: right;\n",
       "    }\n",
       "\n",
       "    .dataframe thead th {\n",
       "        text-align: left;\n",
       "    }\n",
       "\n",
       "    .dataframe tbody tr th {\n",
       "        vertical-align: top;\n",
       "    }\n",
       "</style>\n",
       "<table border=\"1\" class=\"dataframe\">\n",
       "  <thead>\n",
       "    <tr style=\"text-align: right;\">\n",
       "      <th></th>\n",
       "      <th>id</th>\n",
       "      <th>label</th>\n",
       "    </tr>\n",
       "  </thead>\n",
       "  <tbody>\n",
       "    <tr>\n",
       "      <th>0</th>\n",
       "      <td>1</td>\n",
       "      <td>0.006847</td>\n",
       "    </tr>\n",
       "    <tr>\n",
       "      <th>1</th>\n",
       "      <td>2</td>\n",
       "      <td>0.005000</td>\n",
       "    </tr>\n",
       "    <tr>\n",
       "      <th>2</th>\n",
       "      <td>3</td>\n",
       "      <td>0.005000</td>\n",
       "    </tr>\n",
       "    <tr>\n",
       "      <th>3</th>\n",
       "      <td>4</td>\n",
       "      <td>0.005000</td>\n",
       "    </tr>\n",
       "    <tr>\n",
       "      <th>4</th>\n",
       "      <td>5</td>\n",
       "      <td>0.031402</td>\n",
       "    </tr>\n",
       "    <tr>\n",
       "      <th>5</th>\n",
       "      <td>6</td>\n",
       "      <td>0.259490</td>\n",
       "    </tr>\n",
       "    <tr>\n",
       "      <th>6</th>\n",
       "      <td>7</td>\n",
       "      <td>0.433601</td>\n",
       "    </tr>\n",
       "    <tr>\n",
       "      <th>7</th>\n",
       "      <td>8</td>\n",
       "      <td>0.005000</td>\n",
       "    </tr>\n",
       "    <tr>\n",
       "      <th>8</th>\n",
       "      <td>9</td>\n",
       "      <td>0.182221</td>\n",
       "    </tr>\n",
       "    <tr>\n",
       "      <th>9</th>\n",
       "      <td>10</td>\n",
       "      <td>0.005610</td>\n",
       "    </tr>\n",
       "  </tbody>\n",
       "</table>\n",
       "</div>"
      ],
      "text/plain": [
       "   id     label\n",
       "0   1  0.006847\n",
       "1   2  0.005000\n",
       "2   3  0.005000\n",
       "3   4  0.005000\n",
       "4   5  0.031402\n",
       "5   6  0.259490\n",
       "6   7  0.433601\n",
       "7   8  0.005000\n",
       "8   9  0.182221\n",
       "9  10  0.005610"
      ]
     },
     "execution_count": 45,
     "metadata": {},
     "output_type": "execute_result"
    }
   ],
   "source": [
    "for i, fname in enumerate(test_generator.filenames):\n",
    "    index = int(fname[fname.rfind('/')+1:fname.rfind('.')])\n",
    "    df.set_value(index-1, 'label', y_pred[i][0])\n",
    "\n",
    "df.to_csv('pred.csv', index=None)\n",
    "df.head(10)"
   ]
  },
  {
   "cell_type": "markdown",
   "metadata": {},
   "source": [
    "## 2.3 提交 kaggle测试得分"
   ]
  },
  {
   "cell_type": "code",
   "execution_count": 46,
   "metadata": {
    "collapsed": true
   },
   "outputs": [],
   "source": [
    "# kaggle competitions submit -c dogs-vs-cats-redux-kernels-edition -f submission.csv -m \"Message\""
   ]
  },
  {
   "cell_type": "code",
   "execution_count": null,
   "metadata": {
    "collapsed": true
   },
   "outputs": [],
   "source": []
  }
 ],
 "metadata": {
  "anaconda-cloud": {},
  "kernelspec": {
   "display_name": "Python 3",
   "language": "python",
   "name": "python3"
  },
  "language_info": {
   "codemirror_mode": {
    "name": "ipython",
    "version": 3
   },
   "file_extension": ".py",
   "mimetype": "text/x-python",
   "name": "python",
   "nbconvert_exporter": "python",
   "pygments_lexer": "ipython3",
   "version": "3.6.1"
  }
 },
 "nbformat": 4,
 "nbformat_minor": 2
}
